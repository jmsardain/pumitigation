{
 "cells": [
  {
   "cell_type": "code",
   "execution_count": 1,
   "id": "08f9bc62-348c-4de8-9927-7f1a9fcd67d6",
   "metadata": {},
   "outputs": [],
   "source": [
    "import pandas as pd\n",
    "import uproot as ur\n",
    "import numpy as np \n",
    "import matplotlib.pyplot as plt\n",
    "import networkx as nx"
   ]
  },
  {
   "cell_type": "code",
   "execution_count": 2,
   "id": "99aca85a-c0d5-4b2e-96af-3cdbe859cc37",
   "metadata": {},
   "outputs": [],
   "source": [
    "file = ur.open('/home/jmsardain/JetCalib/Akt4EMTopo.topo_cluster.root')[\"ClusterTree\"]\n",
    "df = file.arrays(library=\"pd\")\n",
    "df1 = df.head(1000000)"
   ]
  },
  {
   "cell_type": "code",
   "execution_count": 8,
   "id": "18d6dd1f-9877-440f-aec7-88cf94e475ad",
   "metadata": {},
   "outputs": [],
   "source": [
    "clusterE = [] \n",
    "clusterEta = []\n",
    "cluster_time = []\n",
    "labels = [] "
   ]
  },
  {
   "cell_type": "code",
   "execution_count": 4,
   "id": "9ca242c2-6322-4027-b56f-ccb92aab74b3",
   "metadata": {},
   "outputs": [],
   "source": [
    "## Get all event numbers, but just once per event, so drop duplicates\n",
    "eventNumbers = np.array(df1.eventNumber.drop_duplicates())"
   ]
  },
  {
   "cell_type": "code",
   "execution_count": 6,
   "id": "5583ce96-3b31-4d28-8b4e-b6b994426832",
   "metadata": {},
   "outputs": [
    {
     "data": {
      "text/plain": [
       "array([47081445, 47081807, 47081814, 47081454, 47081148, 47081685,\n",
       "       47081237, 47081882, 47081278, 47081045])"
      ]
     },
     "execution_count": 6,
     "metadata": {},
     "output_type": "execute_result"
    }
   ],
   "source": [
    "eventNumbers = eventNumbers[0:10]\n",
    "eventNumbers"
   ]
  },
  {
   "cell_type": "code",
   "execution_count": 9,
   "id": "fef3c090-9476-4c32-bd8f-517760257a49",
   "metadata": {},
   "outputs": [],
   "source": [
    "for event in eventNumbers:\n",
    "    a = list(df[df[\"eventNumber\"]==event].clusterE.values)\n",
    "    b = list(df[df[\"eventNumber\"]==event].clusterEtaCalib.values)\n",
    "    c = list(df[df[\"eventNumber\"]==event].cluster_time.values)\n",
    "    d = list(np.where(np.array(df[df[\"eventNumber\"]==event].cluster_ENG_CALIB_TOT.values) == 0, 1, 0))\n",
    "    clusterE.append(a)\n",
    "    clusterEta.append(b)\n",
    "    cluster_time.append(c)\n",
    "    labels.append(d)\n",
    "    pass"
   ]
  },
  {
   "cell_type": "code",
   "execution_count": null,
   "id": "bdbdf519-8c2b-4448-9ba1-dc8e12383108",
   "metadata": {},
   "outputs": [],
   "source": []
  },
  {
   "cell_type": "code",
   "execution_count": 23,
   "id": "47a73d3d-6091-4ccf-bb20-490b5e4936ee",
   "metadata": {},
   "outputs": [
    {
     "name": "stdout",
     "output_type": "stream",
     "text": [
      "Graph 1:\n",
      "Data(x=[1, 39, 3], edge_index=[2, 741], y=[39])\n",
      "\n",
      "Graph 2:\n",
      "Data(x=[1, 12, 3], edge_index=[2, 66], y=[12])\n",
      "\n",
      "Graph 3:\n",
      "Data(x=[1, 20, 3], edge_index=[2, 190], y=[20])\n",
      "\n",
      "Graph 4:\n",
      "Data(x=[1, 17, 3], edge_index=[2, 136], y=[17])\n",
      "\n"
     ]
    }
   ],
   "source": [
    "import torch\n",
    "from torch_geometric.data import Data\n",
    "\n",
    "graph_list = []\n",
    "for i in range(len(clusterE)):\n",
    "    num_nodes = len(clusterE[i])\n",
    "    edge_index = torch.tensor([[i, j] for i in range(num_nodes) for j in range(i+1, num_nodes)], dtype=torch.long).t().contiguous()\n",
    "    vec = []\n",
    "    vec.append(np.array([clusterE[i], clusterEta[i], cluster_time[i]]).T)\n",
    "    x = torch.tensor(vec, dtype=torch.float)\n",
    "    \n",
    "    graph = Data(x=x, edge_index=edge_index, y=labels[i])\n",
    "    graph_list.append(graph)\n",
    "\n",
    "# Printing the graph list\n",
    "for idx, graph in enumerate(graph_list):\n",
    "    if idx>3: continue\n",
    "    print(f\"Graph {idx+1}:\")\n",
    "    print(graph)\n",
    "    print()"
   ]
  },
  {
   "cell_type": "code",
   "execution_count": 53,
   "id": "c16b0348-a8bd-427c-8f8e-bfbcad7feb69",
   "metadata": {},
   "outputs": [],
   "source": [
    "import torch\n",
    "import torch.nn as nn\n",
    "import torch.optim as optim\n",
    "import torch_geometric\n",
    "from torch_geometric.data import Data\n",
    "from torch_geometric.nn import GCNConv\n",
    "class GCNModel(nn.Module):\n",
    "    def __init__(self, in_channels, hidden_channels, num_classes):\n",
    "        super(GCNModel, self).__init__()\n",
    "        self.conv1 = GCNConv(in_channels, hidden_channels)\n",
    "        self.conv2 = GCNConv(hidden_channels, num_classes)\n",
    "\n",
    "    def forward(self, x, edge_index):\n",
    "        x = self.conv1(x, edge_index)\n",
    "        x = torch.relu(x)\n",
    "        x = self.conv2(x, edge_index)\n",
    "        return x\n",
    "\n",
    "# class GCNModel(nn.Module):\n",
    "#     def __init__(self, in_channels, hidden_channels, num_classes):\n",
    "#         super(GCNModel, self).__init__()\n",
    "#         self.conv1 = GCNConv(in_channels, hidden_channels)\n",
    "#         self.conv2 = GCNConv(hidden_channels, num_classes)\n",
    "\n",
    "#     def forward(self, x_batch, edge_index_batch):\n",
    "#         x_batch = self.conv1(x_batch, edge_index_batch)\n",
    "#         x_batch = torch.relu(x_batch)\n",
    "#         x_batch = self.conv2(x_batch, edge_index_batch)\n",
    "#         return x_batch\n",
    "        \n",
    "# Initialize model, optimizer, and loss function\n",
    "model = GCNModel(in_channels=3, hidden_channels=64, num_classes=2)\n",
    "optimizer = optim.Adam(model.parameters(), lr=0.01)\n",
    "criterion = nn.CrossEntropyLoss()"
   ]
  },
  {
   "cell_type": "code",
   "execution_count": 54,
   "id": "1005020f-bc5b-4028-adad-246ed0bfc5f2",
   "metadata": {},
   "outputs": [
    {
     "data": {
      "text/plain": [
       "CrossEntropyLoss()"
      ]
     },
     "execution_count": 54,
     "metadata": {},
     "output_type": "execute_result"
    }
   ],
   "source": [
    "device = torch.device('cuda' if torch.cuda.is_available() else 'cpu')\n",
    "model.to(device)\n",
    "criterion.to(device)"
   ]
  },
  {
   "cell_type": "code",
   "execution_count": 55,
   "id": "717b6901-97ac-444c-8695-195b8a97a32b",
   "metadata": {},
   "outputs": [],
   "source": [
    "from torch.utils.data import DataLoader\n",
    "dataloader = DataLoader(graph_list, batch_size=1028, shuffle=True)"
   ]
  },
  {
   "cell_type": "code",
   "execution_count": 56,
   "id": "fd277771-1071-409c-aeb6-b6e08d5855d9",
   "metadata": {},
   "outputs": [],
   "source": [
    "\n",
    "# Training loop\n",
    "for epoch in range(100):\n",
    "    for data in graph_list:\n",
    "        data = data.to(device)\n",
    "        model.train()\n",
    "        optimizer.zero_grad()\n",
    "        out = model(data.x, data.edge_index)\n",
    "        out = out.view(-1, out.shape[-1])\n",
    "        labels = torch.tensor(data.y, dtype=torch.long).to(device) \n",
    "        # print(out.shape)\n",
    "        # print(labels.shape)\n",
    "        loss = criterion(out, labels)\n",
    "        loss.backward()\n",
    "        optimizer.step()\n"
   ]
  },
  {
   "cell_type": "code",
   "execution_count": 57,
   "id": "bf7fb52e-8b72-4446-81e2-9fb35b08b6c4",
   "metadata": {},
   "outputs": [
    {
     "name": "stdout",
     "output_type": "stream",
     "text": [
      "Epoch [1/100], Loss: 2.4406\n",
      "Epoch [2/100], Loss: 2.4170\n",
      "Epoch [3/100], Loss: 2.4040\n",
      "Epoch [4/100], Loss: 2.4099\n",
      "Epoch [5/100], Loss: 2.3975\n",
      "Epoch [6/100], Loss: 2.4531\n",
      "Epoch [7/100], Loss: 2.4391\n",
      "Epoch [8/100], Loss: 2.4701\n",
      "Epoch [9/100], Loss: 2.5697\n",
      "Epoch [10/100], Loss: 2.5717\n",
      "Epoch [11/100], Loss: 2.5406\n",
      "Epoch [12/100], Loss: 2.7763\n",
      "Epoch [13/100], Loss: 2.6670\n",
      "Epoch [14/100], Loss: 2.4771\n",
      "Epoch [15/100], Loss: 2.4939\n",
      "Epoch [16/100], Loss: 2.4619\n",
      "Epoch [17/100], Loss: 2.4110\n",
      "Epoch [18/100], Loss: 2.3991\n",
      "Epoch [19/100], Loss: 2.4076\n",
      "Epoch [20/100], Loss: 2.3877\n",
      "Epoch [21/100], Loss: 2.3821\n",
      "Epoch [22/100], Loss: 2.3854\n",
      "Epoch [23/100], Loss: 2.3785\n",
      "Epoch [24/100], Loss: 2.3764\n",
      "Epoch [25/100], Loss: 2.3722\n",
      "Epoch [26/100], Loss: 2.3767\n",
      "Epoch [27/100], Loss: 2.3729\n",
      "Epoch [28/100], Loss: 2.3767\n",
      "Epoch [29/100], Loss: 2.3701\n",
      "Epoch [30/100], Loss: 2.3900\n",
      "Epoch [31/100], Loss: 2.3826\n",
      "Epoch [32/100], Loss: 2.4054\n",
      "Epoch [33/100], Loss: 2.4071\n",
      "Epoch [34/100], Loss: 2.5090\n",
      "Epoch [35/100], Loss: 2.4350\n",
      "Epoch [36/100], Loss: 2.4659\n",
      "Epoch [37/100], Loss: 2.5113\n",
      "Epoch [38/100], Loss: 2.4658\n",
      "Epoch [39/100], Loss: 2.5183\n",
      "Epoch [40/100], Loss: 2.4940\n",
      "Epoch [41/100], Loss: 2.4439\n",
      "Epoch [42/100], Loss: 2.4499\n",
      "Epoch [43/100], Loss: 2.4258\n",
      "Epoch [44/100], Loss: 2.4112\n",
      "Epoch [45/100], Loss: 2.3819\n",
      "Epoch [46/100], Loss: 2.4065\n",
      "Epoch [47/100], Loss: 2.3570\n",
      "Epoch [48/100], Loss: 2.3565\n",
      "Epoch [49/100], Loss: 2.3552\n",
      "Epoch [50/100], Loss: 2.3636\n",
      "Epoch [51/100], Loss: 2.3588\n",
      "Epoch [52/100], Loss: 2.4000\n",
      "Epoch [53/100], Loss: 2.3457\n",
      "Epoch [54/100], Loss: 2.3453\n",
      "Epoch [55/100], Loss: 2.3436\n",
      "Epoch [56/100], Loss: 2.3509\n",
      "Epoch [57/100], Loss: 2.3516\n",
      "Epoch [58/100], Loss: 2.3892\n",
      "Epoch [59/100], Loss: 2.3504\n",
      "Epoch [60/100], Loss: 2.3588\n",
      "Epoch [61/100], Loss: 2.3713\n",
      "Epoch [62/100], Loss: 2.3811\n",
      "Epoch [63/100], Loss: 2.4006\n",
      "Epoch [64/100], Loss: 2.4121\n",
      "Epoch [65/100], Loss: 2.4291\n",
      "Epoch [66/100], Loss: 2.3914\n",
      "Epoch [67/100], Loss: 2.4169\n",
      "Epoch [68/100], Loss: 2.4223\n",
      "Epoch [69/100], Loss: 2.3846\n",
      "Epoch [70/100], Loss: 2.3782\n",
      "Epoch [71/100], Loss: 2.4011\n",
      "Epoch [72/100], Loss: 2.3458\n",
      "Epoch [73/100], Loss: 2.3393\n",
      "Epoch [74/100], Loss: 2.3461\n",
      "Epoch [75/100], Loss: 2.3404\n",
      "Epoch [76/100], Loss: 2.3782\n",
      "Epoch [77/100], Loss: 2.3668\n",
      "Epoch [78/100], Loss: 2.4443\n",
      "Epoch [79/100], Loss: 2.3711\n",
      "Epoch [80/100], Loss: 2.4090\n",
      "Epoch [81/100], Loss: 2.4082\n",
      "Epoch [82/100], Loss: 2.4738\n",
      "Epoch [83/100], Loss: 2.5522\n",
      "Epoch [84/100], Loss: 2.5990\n",
      "Epoch [85/100], Loss: 2.8645\n",
      "Epoch [86/100], Loss: 2.4370\n",
      "Epoch [87/100], Loss: 2.5425\n",
      "Epoch [88/100], Loss: 2.3476\n",
      "Epoch [89/100], Loss: 2.4117\n",
      "Epoch [90/100], Loss: 2.5024\n",
      "Epoch [91/100], Loss: 2.3873\n",
      "Epoch [92/100], Loss: 2.3670\n",
      "Epoch [93/100], Loss: 2.3698\n",
      "Epoch [94/100], Loss: 2.3336\n",
      "Epoch [95/100], Loss: 2.3317\n",
      "Epoch [96/100], Loss: 2.3264\n",
      "Epoch [97/100], Loss: 2.3179\n",
      "Epoch [98/100], Loss: 2.3175\n",
      "Epoch [99/100], Loss: 2.3161\n",
      "Epoch [100/100], Loss: 2.3126\n"
     ]
    }
   ],
   "source": [
    "for epoch in range(num_epochs):\n",
    "    model.train()\n",
    "    epoch_loss = 0.0\n",
    "    \n",
    "    for data in graph_list:\n",
    "        data = data.to(device)  # Move batch data to the same device as model\n",
    "        \n",
    "        optimizer.zero_grad()\n",
    "        out = model(data.x, data.edge_index)\n",
    "        out = out.view(-1, out.shape[-1])\n",
    "        labels = torch.tensor(data.y, dtype=torch.long).to(device) \n",
    "        loss = criterion(out, labels)\n",
    "        loss.backward()\n",
    "        optimizer.step()\n",
    "        \n",
    "        epoch_loss += loss.item()\n",
    "\n",
    "    print(f'Epoch [{epoch+1}/{num_epochs}], Loss: {epoch_loss:.4f}')\n"
   ]
  },
  {
   "cell_type": "code",
   "execution_count": 62,
   "id": "0228ad86-966a-4b08-ab01-7996a3bd2ab5",
   "metadata": {},
   "outputs": [
    {
     "name": "stdout",
     "output_type": "stream",
     "text": [
      "Predicted labels for the test graph: [[2, 0]]\n"
     ]
    }
   ],
   "source": [
    "# Evaluate the trained model on the test graph\n",
    "model.eval()\n",
    "with torch.no_grad():\n",
    "    test_out = model(graph_list[1].x, graph_list[1].edge_index)\n",
    "    predicted_labels = test_out.argmax(dim=1)\n",
    "\n",
    "print(\"Predicted labels for the test graph:\", predicted_labels.tolist())"
   ]
  },
  {
   "cell_type": "code",
   "execution_count": 63,
   "id": "24eaa1e1-5d63-4f20-afef-b189e3d4ae7c",
   "metadata": {},
   "outputs": [
    {
     "data": {
      "text/plain": [
       "12"
      ]
     },
     "execution_count": 63,
     "metadata": {},
     "output_type": "execute_result"
    }
   ],
   "source": [
    "len(list(np.where(np.array(df[df[\"eventNumber\"]==47081807].cluster_ENG_CALIB_TOT.values) == 0, 1, 0)))"
   ]
  },
  {
   "cell_type": "code",
   "execution_count": 59,
   "id": "7506ddaa-96bd-4532-b535-6c8ce7b4e588",
   "metadata": {},
   "outputs": [
    {
     "data": {
      "text/plain": [
       "array([47081445, 47081807, 47081814, 47081454, 47081148, 47081685,\n",
       "       47081237, 47081882, 47081278, 47081045])"
      ]
     },
     "execution_count": 59,
     "metadata": {},
     "output_type": "execute_result"
    }
   ],
   "source": [
    "eventNumbers"
   ]
  },
  {
   "cell_type": "code",
   "execution_count": null,
   "id": "f41f1af4-2979-4017-b0da-006a968be5aa",
   "metadata": {},
   "outputs": [],
   "source": []
  }
 ],
 "metadata": {
  "kernelspec": {
   "display_name": "Python 3 (ipykernel)",
   "language": "python",
   "name": "python3"
  },
  "language_info": {
   "codemirror_mode": {
    "name": "ipython",
    "version": 3
   },
   "file_extension": ".py",
   "mimetype": "text/x-python",
   "name": "python",
   "nbconvert_exporter": "python",
   "pygments_lexer": "ipython3",
   "version": "3.8.10"
  }
 },
 "nbformat": 4,
 "nbformat_minor": 5
}
