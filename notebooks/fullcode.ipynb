{
 "cells": [
  {
   "cell_type": "code",
   "execution_count": 2,
   "id": "08f9bc62-348c-4de8-9927-7f1a9fcd67d6",
   "metadata": {},
   "outputs": [],
   "source": [
    "import pandas as pd\n",
    "import uproot as ur\n",
    "import numpy as np \n",
    "import matplotlib.pyplot as plt\n",
    "import networkx as nx\n",
    "import torch"
   ]
  },
  {
   "cell_type": "code",
   "execution_count": 3,
   "id": "99aca85a-c0d5-4b2e-96af-3cdbe859cc37",
   "metadata": {},
   "outputs": [
    {
     "name": "stderr",
     "output_type": "stream",
     "text": [
      "/tmp/ipykernel_8142/3331298965.py:2: FutureWarning: In a future version of pandas all arguments of read_csv except for the argument 'filepath_or_buffer' will be keyword-only.\n",
      "  file = pd.read_csv('./fracdata.csv',' ')\n"
     ]
    },
    {
     "data": {
      "text/plain": [
       "Index(['seqNumber', 'runNumber', 'eventNumber', 'avgMu', 'nPrimVtx', 'jetCnt',\n",
       "       'jetCalE', 'jetCalPt', 'jetCalEta', 'jetCalPhi', 'jetRawE', 'jetRawPt',\n",
       "       'jetRawEta', 'jetRawPhi', 'jetNConst', 'truthJetMatchRadius',\n",
       "       'truthJetE', 'truthJetPt', 'truthJetRap', 'truthJetPhi', 'nCluster',\n",
       "       'clusterIndex', 'cluster_nCells', 'cluster_nCells_tot', 'clusterECalib',\n",
       "       'clusterPtCalib', 'clusterEtaCalib', 'clusterPhiCalib',\n",
       "       'cluster_sumCellECalib', 'cluster_fracECalib', 'cluster_fracECalib_ref',\n",
       "       'clusterE', 'clusterPt', 'clusterEta', 'clusterPhi', 'cluster_sumCellE',\n",
       "       'cluster_time', 'cluster_fracE', 'cluster_fracE_ref',\n",
       "       'cluster_EM_PROBABILITY', 'cluster_HAD_WEIGHT', 'cluster_OOC_WEIGHT',\n",
       "       'cluster_DM_WEIGHT', 'cluster_ENG_CALIB_TOT', 'cluster_ENG_CALIB_OUT_T',\n",
       "       'cluster_ENG_CALIB_OUT_L', 'cluster_ENG_CALIB_OUT_M',\n",
       "       'cluster_ENG_CALIB_DEAD_T', 'cluster_ENG_CALIB_DEAD_L',\n",
       "       'cluster_ENG_CALIB_DEAD_M', 'cluster_ENG_CALIB_DEAD_TOT',\n",
       "       'cluster_ENG_CALIB_FRAC_EM', 'cluster_ENG_CALIB_FRAC_HAD',\n",
       "       'cluster_ENG_CALIB_FRAC_REST', 'cluster_CENTER_MAG',\n",
       "       'cluster_FIRST_ENG_DENS', 'cluster_FIRST_PHI', 'cluster_FIRST_ETA',\n",
       "       'cluster_SECOND_R', 'cluster_SECOND_LAMBDA', 'cluster_DELTA_PHI',\n",
       "       'cluster_DELTA_THETA', 'cluster_DELTA_ALPHA', 'cluster_CENTER_X',\n",
       "       'cluster_CENTER_Y', 'cluster_CENTER_Z', 'cluster_CENTER_LAMBDA',\n",
       "       'cluster_LATERAL', 'cluster_LONGITUDINAL', 'cluster_ENG_FRAC_EM',\n",
       "       'cluster_ENG_FRAC_MAX', 'cluster_ENG_FRAC_CORE',\n",
       "       'cluster_SECOND_ENG_DENS', 'cluster_ISOLATION', 'cluster_ENG_BAD_CELLS',\n",
       "       'cluster_N_BAD_CELLS', 'cluster_N_BAD_CELLS_CORR',\n",
       "       'cluster_BAD_CELLS_CORR_E', 'cluster_BADLARQ_FRAC', 'cluster_ENG_POS',\n",
       "       'cluster_SIGNIFICANCE', 'cluster_CELL_SIGNIFICANCE',\n",
       "       'cluster_CELL_SIG_SAMPLING', 'cluster_AVG_LAR_Q', 'cluster_AVG_TILE_Q',\n",
       "       'cluster_ENG_BAD_HV_CELLS', 'cluster_N_BAD_HV_CELLS', 'cluster_PTD',\n",
       "       'cluster_MASS', 'cluster_SECOND_TIME'],\n",
       "      dtype='object')"
      ]
     },
     "execution_count": 3,
     "metadata": {},
     "output_type": "execute_result"
    }
   ],
   "source": [
    "#file = ur.open('/home/jmsardain/JetCalib/Akt4EMTopo.topo_cluster.root')[\"ClusterTree\"]\n",
    "file = pd.read_csv('./fracdata.csv',' ')\n",
    "\n",
    "#df = file.arrays(library=\"pd\")\n",
    "df1 = file.head(420000)\n",
    "#df1.columns\n",
    "df1.keys()\n",
    "\n",
    "#df1 = file.head(80000)"
   ]
  },
  {
   "cell_type": "code",
   "execution_count": 4,
   "id": "d7cbd19f",
   "metadata": {},
   "outputs": [],
   "source": [
    "#test = []\n",
    "#df = df1\n",
    "#df1[[ 'eventNumber','jetCnt']][:35]"
   ]
  },
  {
   "cell_type": "code",
   "execution_count": 5,
   "id": "0078c465",
   "metadata": {},
   "outputs": [],
   "source": [
    "#for event in eventNumbers:\n",
    "tempE = []\n",
    "tempEta = []\n",
    "temp_time = []\n",
    "temp_labels = []\n",
    "count_jets = 1\n",
    "old_event = df1['jetCnt'][0]\n",
    "old_jetCnt = df1['jetCnt'][0]\n",
    "change_bol = False\n",
    "\n",
    "SQUEEZE_clusterE = []\n",
    "SQUEEZE_clusterEta = []\n",
    "SQUEEZE_cluster_time = []\n",
    "SQUEEZE_cluster_CENTER_LAMBDA = []\n",
    "SQUEEZE_cluster_CENTER_MAG = []\n",
    "SQUEEZE_clusterPhi = []\n",
    "SQUEEZE_cluster_ENG_FRAC_EM = []\n",
    "SQUEEZE_cluster_FIRST_ENG_DENS = []\n",
    "SQUEEZE_cluster_LATERAL = []\n",
    "SQUEEZE_cluster_LONGITUDINAL = []\n",
    "SQUEEZE_cluster_PTD = []\n",
    "SQUEEZE_cluster_ISOLATION = []\n",
    "SQUEEZE_cluster_SECOND_TIME = []\n",
    "SQUEEZE_cluster_SIGNIFICANCE = []\n",
    "SQUEEZE_nPrimVtx = []\n",
    "SQUEEZE_avgMu = []\n",
    "\n",
    "labels = []\n",
    "\n",
    "for index,row in df1.iterrows():\n",
    "    \n",
    "    SQUEEZE_clusterE.append(row['clusterE'])\n",
    "    SQUEEZE_clusterEta.append(row['clusterEtaCalib'])\n",
    "    SQUEEZE_cluster_time.append(row['cluster_time']/10)\n",
    "    SQUEEZE_cluster_CENTER_LAMBDA.append(row['cluster_CENTER_LAMBDA']/100)\n",
    "    SQUEEZE_cluster_CENTER_MAG.append(row['cluster_CENTER_MAG']/1000)\n",
    "    SQUEEZE_clusterPhi.append(row['clusterPhi'])\n",
    "    SQUEEZE_cluster_ENG_FRAC_EM.append(row['cluster_ENG_FRAC_EM'])\n",
    "    SQUEEZE_cluster_FIRST_ENG_DENS.append(row['cluster_FIRST_ENG_DENS']*10**6)\n",
    "    #cluster_FIRST_ENG_DENS.append(row['clusterPt'])\n",
    "    SQUEEZE_cluster_LATERAL.append(row['cluster_LATERAL'])\n",
    "    SQUEEZE_cluster_LONGITUDINAL.append(row['cluster_LONGITUDINAL'])\n",
    "    SQUEEZE_cluster_PTD.append(row['cluster_PTD'])\n",
    "    SQUEEZE_cluster_ISOLATION.append(row['cluster_ISOLATION'])\n",
    "    SQUEEZE_cluster_SECOND_TIME.append(row['cluster_SECOND_TIME'])\n",
    "    SQUEEZE_cluster_SIGNIFICANCE.append(row['cluster_SIGNIFICANCE'])\n",
    "    SQUEEZE_nPrimVtx.append(row['nPrimVtx'])\n",
    "    SQUEEZE_avgMu.append(row['avgMu']/10)\n",
    "\n",
    "MEAN_clusterE = np.mean(SQUEEZE_clusterE)\n",
    "MEAN_clusterEta = np.mean(SQUEEZE_clusterEta)\n",
    "MEAN_cluster_time = np.mean(SQUEEZE_cluster_time)\n",
    "MEAN_cluster_CENTER_LAMBDA = np.mean(SQUEEZE_cluster_CENTER_LAMBDA)\n",
    "MEAN_cluster_CENTER_MAG = np.mean(SQUEEZE_cluster_CENTER_MAG)\n",
    "MEAN_clusterPhi = np.mean(SQUEEZE_clusterPhi)\n",
    "MEAN_cluster_ENG_FRAC_EM = np.mean(SQUEEZE_cluster_ENG_FRAC_EM)\n",
    "MEAN_cluster_FIRST_ENG_DENS = np.mean(SQUEEZE_cluster_FIRST_ENG_DENS)\n",
    "MEAN_cluster_LATERAL = np.mean(SQUEEZE_cluster_LATERAL)\n",
    "MEAN_cluster_LONGITUDINAL = np.mean(SQUEEZE_cluster_LONGITUDINAL)\n",
    "MEAN_cluster_PTD = np.mean(SQUEEZE_cluster_PTD)\n",
    "MEAN_cluster_ISOLATION = np.mean(SQUEEZE_cluster_ISOLATION)\n",
    "MEAN_cluster_SECOND_TIME = np.mean(SQUEEZE_cluster_SECOND_TIME)\n",
    "MEAN_cluster_SIGNIFICANCE = np.mean(SQUEEZE_cluster_SIGNIFICANCE)\n",
    "MEAN_nPrimVtx = np.mean(SQUEEZE_nPrimVtx)\n",
    "MEAN_avgMu = np.mean(SQUEEZE_avgMu)\n",
    "\n",
    "STD_clusterE = np.std(SQUEEZE_clusterE)\n",
    "STD_clusterEta = np.std(SQUEEZE_clusterEta)\n",
    "STD_cluster_time = np.std(SQUEEZE_cluster_time)\n",
    "STD_cluster_CENTER_LAMBDA = np.std(SQUEEZE_cluster_CENTER_LAMBDA)\n",
    "STD_cluster_CENTER_MAG = np.std(SQUEEZE_cluster_CENTER_MAG)\n",
    "STD_clusterPhi = np.std(SQUEEZE_clusterPhi)\n",
    "STD_cluster_ENG_FRAC_EM = np.std(SQUEEZE_cluster_ENG_FRAC_EM)\n",
    "STD_cluster_FIRST_ENG_DENS = np.std(SQUEEZE_cluster_FIRST_ENG_DENS)\n",
    "STD_cluster_LATERAL = np.std(SQUEEZE_cluster_LATERAL)\n",
    "STD_cluster_LONGITUDINAL = np.std(SQUEEZE_cluster_LONGITUDINAL)\n",
    "STD_cluster_PTD = np.std(SQUEEZE_cluster_PTD)\n",
    "STD_cluster_ISOLATION = np.std(SQUEEZE_cluster_ISOLATION)\n",
    "STD_cluster_SECOND_TIME = np.std(SQUEEZE_cluster_SECOND_TIME)\n",
    "STD_cluster_SIGNIFICANCE = np.std(SQUEEZE_cluster_SIGNIFICANCE)\n",
    "STD_nPrimVtx = np.std(SQUEEZE_nPrimVtx)\n",
    "STD_avgMu = np.std(SQUEEZE_avgMu)\n",
    "\n",
    "## save memory\n",
    "SQUEEZE_clusterE = []\n",
    "SQUEEZE_clusterEta = []\n",
    "SQUEEZE_cluster_time = []\n",
    "SQUEEZE_cluster_CENTER_LAMBDA = []\n",
    "SQUEEZE_cluster_CENTER_MAG = []\n",
    "SQUEEZE_clusterPhi = []\n",
    "SQUEEZE_cluster_ENG_FRAC_EM = []\n",
    "SQUEEZE_cluster_FIRST_ENG_DENS = []\n",
    "SQUEEZE_cluster_LATERAL = []\n",
    "SQUEEZE_cluster_LONGITUDINAL = []\n",
    "SQUEEZE_cluster_PTD = []\n",
    "SQUEEZE_cluster_ISOLATION = []\n",
    "SQUEEZE_cluster_SECOND_TIME = []\n",
    "SQUEEZE_cluster_SIGNIFICANCE = []\n",
    "SQUEEZE_nPrimVtx = []\n",
    "SQUEEZE_avgMu = []"
   ]
  },
  {
   "cell_type": "code",
   "execution_count": 6,
   "id": "b11ae0d0",
   "metadata": {},
   "outputs": [],
   "source": [
    "#for event in eventNumbers:\n",
    "tempE = []\n",
    "tempEta = []\n",
    "temp_time = []\n",
    "temp_labels = []\n",
    "temp_CENTER_LAMBDA = []\n",
    "temp_CENTER_MAG = []\n",
    "temp_Phi = []\n",
    "#\n",
    "temp_ENG_FRAC_EM = []\n",
    "temp_FIRST_ENG_DENS = []\n",
    "temp_LATERAL = []\n",
    "temp_LONGITUDINAL = []\n",
    "temp_PTD = []\n",
    "temp_ISOLATION = []\n",
    "temp_SECOND_TIME = []\n",
    "temp_SIGNIFICANCE = []\n",
    "temp_nPrimVtx = []\n",
    "temp_avgMu = []\n",
    "\n",
    "\n",
    "clusterE = []\n",
    "clusterEta = []\n",
    "cluster_time = []\n",
    "labels = []\n",
    "cluster_CENTER_LAMBDA = []\n",
    "cluster_CENTER_MAG = []\n",
    "clusterPhi = []\n",
    "#\n",
    "cluster_ENG_FRAC_EM = []\n",
    "cluster_FIRST_ENG_DENS = []\n",
    "cluster_LATERAL = []\n",
    "cluster_LONGITUDINAL = []\n",
    "cluster_PTD = []\n",
    "cluster_ISOLATION = []\n",
    "cluster_SECOND_TIME = []\n",
    "cluster_SIGNIFICANCE = []\n",
    "nPrimVtx = []\n",
    "avgMu = []\n",
    "\n",
    "## this vectors to do the normalization of the variables\n",
    "\n",
    "\n",
    "\n",
    "count_jets = 1\n",
    "old_event = df1['jetCnt'][0]\n",
    "old_jetCnt = df1['jetCnt'][0]\n",
    "change_bol = False\n",
    "\n",
    "\n",
    "for index,row in df1.iterrows():\n",
    "    \n",
    "    if old_jetCnt != row['jetCnt']:\n",
    "        old_jetCnt = row['jetCnt']\n",
    "        count_jets = +1\n",
    "        #print(count_jets)\n",
    "        if count_jets == 1:\n",
    "            if len(temp_time)<3:\n",
    "                tempE = []\n",
    "                tempEta = []\n",
    "                temp_time = []\n",
    "                temp_labels = []\n",
    "                temp_CENTER_LAMBDA = []\n",
    "                temp_CENTER_MAG = []\n",
    "                temp_Phi = []\n",
    "                temp_ENG_FRAC_EM = []\n",
    "                temp_FIRST_ENG_DENS = []\n",
    "                temp_LATERAL = []\n",
    "                temp_LONGITUDINAL = []\n",
    "                temp_PTD = []\n",
    "                temp_ISOLATION = []\n",
    "                temp_SECOND_TIME = []\n",
    "                temp_SIGNIFICANCE = []\n",
    "                temp_nPrimVtx = []\n",
    "                temp_avgMu = []\n",
    "                continue\n",
    "            clusterE.append(tempE)\n",
    "            clusterEta.append(tempEta)\n",
    "            cluster_time.append(temp_time)\n",
    "            labels.append(temp_labels)\n",
    "            #print( len(tempEta) )\n",
    "            cluster_CENTER_LAMBDA.append(temp_CENTER_LAMBDA)\n",
    "            cluster_CENTER_MAG.append(temp_CENTER_MAG)\n",
    "            clusterPhi.append(temp_Phi)\n",
    "            \n",
    "            cluster_ENG_FRAC_EM.append(temp_ENG_FRAC_EM)\n",
    "            cluster_FIRST_ENG_DENS.append(temp_FIRST_ENG_DENS)\n",
    "            cluster_LATERAL.append(temp_LATERAL)\n",
    "            cluster_LONGITUDINAL.append(temp_LONGITUDINAL)\n",
    "            cluster_PTD.append(temp_PTD)\n",
    "            cluster_ISOLATION.append(temp_ISOLATION)\n",
    "            cluster_SECOND_TIME.append(temp_SECOND_TIME)\n",
    "            cluster_SIGNIFICANCE.append(temp_SIGNIFICANCE)\n",
    "            nPrimVtx.append(temp_nPrimVtx)\n",
    "            avgMu.append(temp_avgMu)\n",
    "            \n",
    "            tempE = []\n",
    "            tempEta = []\n",
    "            temp_time = []\n",
    "            temp_labels = []\n",
    "            temp_CENTER_LAMBDA = []\n",
    "            temp_CENTER_MAG = []\n",
    "            temp_Phi = []\n",
    "            #\n",
    "            temp_ENG_FRAC_EM = []\n",
    "            temp_FIRST_ENG_DENS = []\n",
    "            temp_LATERAL = []\n",
    "            temp_LONGITUDINAL = []\n",
    "            temp_PTD = []\n",
    "            temp_ISOLATION = []\n",
    "            temp_SECOND_TIME = []\n",
    "            temp_SIGNIFICANCE = []\n",
    "            temp_nPrimVtx = []\n",
    "            temp_avgMu = []\n",
    "            \n",
    "            \n",
    "    if old_event != row['eventNumber']:\n",
    "        old_event = row['eventNumber']\n",
    "        count_jets = 0\n",
    "        #change = False\n",
    "        \n",
    "    #a = list(df[df[\"eventNumber\"]==event].clusterE.values)\n",
    "    #b = list(df[df[\"eventNumber\"]==event].clusterEtaCalib.values)\n",
    "    #c = list(df[df[\"eventNumber\"]==event].cluster_time.values)\n",
    "    #d = list(np.where(np.array(df[df[\"eventNumber\"]==event].cluster_ENG_CALIB_TOT.values) == 0, 1, 0))   \n",
    "    tempE.append(row['clusterE'])\n",
    "    tempEta.append(row['clusterEtaCalib'])\n",
    "    temp_time.append(row['cluster_time']/10)\n",
    "    temp_labels.append( float(row['cluster_ENG_CALIB_TOT'] <= 0) )\n",
    "    temp_CENTER_LAMBDA.append(row['cluster_CENTER_LAMBDA']/100)\n",
    "    temp_CENTER_MAG.append(row['cluster_CENTER_MAG']/1000)\n",
    "    temp_Phi.append(row['clusterPhi'])\n",
    "    temp_ENG_FRAC_EM.append(row['cluster_ENG_FRAC_EM'])\n",
    "    temp_FIRST_ENG_DENS.append(row['cluster_FIRST_ENG_DENS']*10**6)\n",
    "    temp_LATERAL.append(row['cluster_LATERAL'])\n",
    "    temp_LONGITUDINAL.append(row['cluster_LONGITUDINAL'])\n",
    "    temp_PTD.append(row['cluster_PTD'])\n",
    "    temp_ISOLATION.append(row['cluster_ISOLATION'])\n",
    "    temp_SECOND_TIME.append(row['cluster_SECOND_TIME'])\n",
    "    temp_SIGNIFICANCE.append(row['cluster_SIGNIFICANCE'])\n",
    "    temp_nPrimVtx.append(row['nPrimVtx'])\n",
    "    temp_avgMu.append(row['avgMu']/10)\n",
    "    \n",
    "    (tempE - MEAN_clusterE) / STD_clusterE\n",
    "    (tempEta - MEAN_clusterEta) / STD_clusterEta\n",
    "    (temp_time - MEAN_cluster_time) / STD_cluster_time\n",
    "    (temp_CENTER_LAMBDA - MEAN_cluster_CENTER_LAMBDA) / STD_cluster_CENTER_LAMBDA\n",
    "    (temp_CENTER_MAG - MEAN_cluster_CENTER_MAG) / STD_cluster_CENTER_MAG\n",
    "    (temp_Phi - MEAN_clusterPhi) / STD_clusterPhi\n",
    "    (temp_ENG_FRAC_EM - MEAN_cluster_ENG_FRAC_EM) / STD_cluster_ENG_FRAC_EM\n",
    "    (temp_FIRST_ENG_DENS - MEAN_cluster_FIRST_ENG_DENS) / (STD_cluster_FIRST_ENG_DENS*3)\n",
    "    (temp_LATERAL - MEAN_cluster_LATERAL) / STD_cluster_LATERAL\n",
    "    (temp_LONGITUDINAL - MEAN_cluster_LONGITUDINAL) / STD_cluster_LONGITUDINAL\n",
    "    (temp_PTD - MEAN_cluster_PTD) / STD_cluster_PTD\n",
    "    (temp_ISOLATION - MEAN_cluster_ISOLATION) / STD_cluster_ISOLATION\n",
    "    (temp_SECOND_TIME - MEAN_cluster_SECOND_TIME) / (STD_cluster_SECOND_TIME*4)\n",
    "    (temp_SIGNIFICANCE - MEAN_cluster_SIGNIFICANCE) / STD_cluster_SIGNIFICANCE\n",
    "    (temp_nPrimVtx - MEAN_nPrimVtx) / STD_nPrimVtx\n",
    "    (temp_avgMu - MEAN_avgMu) / STD_avgMu\n",
    "\n",
    "    #temp_FIRST_ENG_DENS = temp_FIRST_ENG_DENS*0.3\n",
    "    #temp_SECOND_TIME = temp_SECOND_TIME*0.2\n",
    "    \n",
    "\n"
   ]
  },
  {
   "cell_type": "code",
   "execution_count": 7,
   "id": "9518b4b4",
   "metadata": {},
   "outputs": [],
   "source": [
    "## create Dictionary containing data and labels\n",
    " \n",
    "Dictionary_data ={\n",
    "    \"0\": clusterE,\n",
    "    \"1\": clusterEta,\n",
    "    \"2\": cluster_time,\n",
    "    \"3\": cluster_CENTER_LAMBDA,\n",
    "    \"4\": cluster_CENTER_MAG,\n",
    "    \"5\": cluster_ENG_FRAC_EM ,\n",
    "    \"6\": cluster_FIRST_ENG_DENS,\n",
    "    \"7\": cluster_LATERAL ,\n",
    "    \"8\": cluster_LONGITUDINAL ,\n",
    "    \"9\": cluster_PTD ,\n",
    "    \"10\": cluster_ISOLATION ,\n",
    "    \"11\": cluster_SECOND_TIME,\n",
    "    \"12\": cluster_SIGNIFICANCE,\n",
    "    \"13\": nPrimVtx,\n",
    "    \"14\": avgMu,\n",
    "    \"15\": clusterPhi,    \n",
    "    \"label\": labels\n",
    "}\n"
   ]
  },
  {
   "cell_type": "code",
   "execution_count": 8,
   "id": "72647a94",
   "metadata": {},
   "outputs": [
    {
     "data": {
      "text/plain": [
       "[25.617395,\n",
       " 8.937526,\n",
       " 22.180574,\n",
       " 6.1980567,\n",
       " 13.616123,\n",
       " 2.0322801e-09,\n",
       " 39.94593,\n",
       " 0.0,\n",
       " 0.0,\n",
       " 0.0,\n",
       " 1.309967e-06,\n",
       " 0.90994287,\n",
       " 0.0,\n",
       " 8.1291205e-09]"
      ]
     },
     "execution_count": 8,
     "metadata": {},
     "output_type": "execute_result"
    }
   ],
   "source": [
    "Dictionary_data[\"11\"][50]"
   ]
  },
  {
   "cell_type": "code",
   "execution_count": 9,
   "id": "fef3c090-9476-4c32-bd8f-517760257a49",
   "metadata": {},
   "outputs": [
    {
     "data": {
      "text/plain": [
       "' \\nclusterE = [] \\nclusterEta = []\\ncluster_time = []\\nlabels = [] \\ntest = []\\n\\neventNumbers =np.array(df.eventNumber.drop_duplicates() )\\n\\nfor event in eventNumbers:\\n    a = list(df[df[\"eventNumber\"]==event].clusterE.values)\\n    b = list(df[df[\"eventNumber\"]==event].clusterEtaCalib.values)\\n    c = list(df[df[\"eventNumber\"]==event].cluster_time.values)\\n    d = list(np.where(np.array(df[df[\"eventNumber\"]==event].cluster_ENG_CALIB_TOT.values) <= 0, 1, 0))\\n    clusterE.append(a)\\n    clusterEta.append(b)\\n    cluster_time.append(c)\\n    labels.append(d)\\n    pass\\nlabels[4]\\n'"
      ]
     },
     "execution_count": 9,
     "metadata": {},
     "output_type": "execute_result"
    }
   ],
   "source": [
    "''' \n",
    "clusterE = [] \n",
    "clusterEta = []\n",
    "cluster_time = []\n",
    "labels = [] \n",
    "test = []\n",
    "\n",
    "eventNumbers =np.array(df.eventNumber.drop_duplicates() )\n",
    "\n",
    "for event in eventNumbers:\n",
    "    a = list(df[df[\"eventNumber\"]==event].clusterE.values)\n",
    "    b = list(df[df[\"eventNumber\"]==event].clusterEtaCalib.values)\n",
    "    c = list(df[df[\"eventNumber\"]==event].cluster_time.values)\n",
    "    d = list(np.where(np.array(df[df[\"eventNumber\"]==event].cluster_ENG_CALIB_TOT.values) <= 0, 1, 0))\n",
    "    clusterE.append(a)\n",
    "    clusterEta.append(b)\n",
    "    cluster_time.append(c)\n",
    "    labels.append(d)\n",
    "    pass\n",
    "labels[4]\n",
    "'''"
   ]
  },
  {
   "cell_type": "code",
   "execution_count": 10,
   "id": "bdbdf519-8c2b-4448-9ba1-dc8e12383108",
   "metadata": {},
   "outputs": [],
   "source": [
    "#df[df[\"eventNumber\"]==47081045].clusterE.values"
   ]
  },
  {
   "cell_type": "code",
   "execution_count": 11,
   "id": "a79d8286",
   "metadata": {},
   "outputs": [
    {
     "data": {
      "text/plain": [
       "array([ 1,  1,  1,  1,  1,  1,  1,  1,  1, 10,  1, 10,  1,  1,  1,  1,  1,\n",
       "        1,  1,  1])"
      ]
     },
     "execution_count": 11,
     "metadata": {},
     "output_type": "execute_result"
    }
   ],
   "source": [
    "(np.array(labels[3]) > 0.5)*9 + 1"
   ]
  },
  {
   "cell_type": "code",
   "execution_count": 12,
   "id": "47a73d3d-6091-4ccf-bb20-490b5e4936ee",
   "metadata": {},
   "outputs": [
    {
     "name": "stdout",
     "output_type": "stream",
     "text": [
      "Graph 1:\n",
      "Data(x=[23, 16], edge_index=[2, 253], y=[23], weights=[23])\n",
      "\n",
      "Graph 2:\n",
      "Data(x=[16, 16], edge_index=[2, 120], y=[16], weights=[16])\n",
      "\n",
      "Graph 3:\n",
      "Data(x=[12, 16], edge_index=[2, 66], y=[12], weights=[12])\n",
      "\n",
      "Graph 4:\n",
      "Data(x=[20, 16], edge_index=[2, 190], y=[20], weights=[20])\n",
      "\n"
     ]
    }
   ],
   "source": [
    "import torch\n",
    "from torch_geometric.data import Data\n",
    "\n",
    "graph_list = []\n",
    "for i in range(len(clusterE)):\n",
    "    num_nodes = len(clusterE[i])\n",
    "    edge_index = torch.tensor([[i, j] for i in range(num_nodes) for j in range(i+1, num_nodes)], dtype=torch.long).t().contiguous()\n",
    "    #print(edge_index)\n",
    "    vec = []\n",
    "    \n",
    "    #vec.append(np.array([Dictionary_data[\"0\"][i], Dictionary_data[\"1\"][i], Dictionary_data[\"2\"][i],Dictionary_data[\"3\"][i], Dictionary_data[\"4\"][i], Dictionary_data[\"5\"][i]]).T)\n",
    "    vec.append(np.array([Dictionary_data[\"0\"][i], Dictionary_data[\"1\"][i], Dictionary_data[\"2\"][i], Dictionary_data[\"3\"][i], Dictionary_data[\"4\"][i], \n",
    "                         Dictionary_data[\"5\"][i], Dictionary_data[\"6\"][i], Dictionary_data[\"7\"][i], Dictionary_data[\"8\"][i], Dictionary_data[\"9\"][i], \n",
    "                         Dictionary_data[\"10\"][i], Dictionary_data[\"11\"][i], Dictionary_data[\"12\"][i], Dictionary_data[\"13\"][i], Dictionary_data[\"14\"][i], \n",
    "                         Dictionary_data[\"15\"][i]]).T)\n",
    "    \n",
    "    #for j in range (0,len(Dictionary_data)-1):\n",
    "    #    vec.append(np.array(Dictionary_data[str(j)][i]) )\n",
    "    \n",
    "    vec = np.array(vec)\n",
    "    vec = np.squeeze(vec)\n",
    "    \n",
    "    x = torch.tensor(vec, dtype=torch.float)\n",
    "    #x = np.array(vec)\n",
    "    w=(np.array(labels[i]) > 0.5)*9 + 1\n",
    "\n",
    "    \n",
    "    #graph = Data(x=x, edge_index=edge_index, y=labels[i])\n",
    "    \n",
    "    graph = Data(x=x, edge_index=edge_index, y=torch.tensor(labels[i], dtype=torch.float), weights=torch.tensor(w, dtype=torch.float) )\n",
    "    \n",
    "    graph_list.append(graph)\n",
    "    \n",
    "    \n",
    "\n",
    "# Printing the graph list\n",
    "for idx, graph in enumerate(graph_list):\n",
    "    if idx>3: continue\n",
    "    print(f\"Graph {idx+1}:\")\n",
    "    print(graph)\n",
    "    print()"
   ]
  },
  {
   "cell_type": "code",
   "execution_count": 13,
   "id": "c4d3c26c",
   "metadata": {},
   "outputs": [
    {
     "data": {
      "text/plain": [
       "0"
      ]
     },
     "execution_count": 13,
     "metadata": {},
     "output_type": "execute_result"
    }
   ],
   "source": [
    "## save memory\n",
    "clusterE = []\n",
    "clusterEta = []\n",
    "cluster_time = []\n",
    "labels = []\n",
    "cluster_CENTER_LAMBDA = []\n",
    "cluster_CENTER_MAG = []\n",
    "clusterPhi = []\n",
    "#\n",
    "cluster_ENG_FRAC_EM = []\n",
    "cluster_FIRST_ENG_DENS = []\n",
    "cluster_LATERAL = []\n",
    "cluster_LONGITUDINAL = []\n",
    "cluster_PTD = []\n",
    "cluster_ISOLATION = []\n",
    "cluster_SECOND_TIME = []\n",
    "cluster_SIGNIFICANCE = []\n",
    "nPrimVtx = []\n",
    "avgMu = []\n",
    "\n",
    "df1 = None\n",
    "\n",
    "\n",
    "import gc\n",
    "gc.collect()"
   ]
  },
  {
   "cell_type": "code",
   "execution_count": 14,
   "id": "c16b0348-a8bd-427c-8f8e-bfbcad7feb69",
   "metadata": {},
   "outputs": [
    {
     "data": {
      "text/plain": [
       "''"
      ]
     },
     "execution_count": 14,
     "metadata": {},
     "output_type": "execute_result"
    }
   ],
   "source": [
    "import torch\n",
    "import torch.nn as nn\n",
    "import torch.optim as optim\n",
    "import torch_geometric\n",
    "from torch_geometric.data import Data\n",
    "from torch_geometric.nn import GCNConv\n",
    "import torch.nn.functional as F\n",
    "\n",
    "'''\n",
    "class GCNModel(nn.Module):\n",
    "    def __init__(self, in_channels, hidden_channels, num_classes):\n",
    "        super(GCNModel, self).__init__()\n",
    "        self.conv1 = GCNConv(in_channels, hidden_channels)\n",
    "        #self.conv2 = GCNConv(hidden_channels, num_classes)\n",
    "        self.conv2 = GCNConv(hidden_channels, hidden_channels)\n",
    "        self.conv3 = GCNConv(hidden_channels, hidden_channels)\n",
    "        self.conv4 = GCNConv(hidden_channels, hidden_channels)\n",
    "        #self.conv5 = GCNConv(hidden_channels, num_classes)\n",
    "        self.Linear_node1 = torch.nn.Linear(16,32)\n",
    "        self.Linear_node2 = torch.nn.Linear(32,32)\n",
    "        self.Linear_node3 = torch.nn.Linear(32,32)\n",
    "        self.Linear_node4 = torch.nn.Linear(64,64)\n",
    "        self.Linear_node5 = torch.nn.Linear(64,1)\n",
    "        \n",
    "    def forward(self, x, edge_index):\n",
    "        #print(\"input ->\",x.size() )\n",
    "        #print(\"input value->\",x )\n",
    "        gg1 = self.Linear_node1(x)\n",
    "        gg1 = torch.relu(gg1)\n",
    "        #print(\"afterLineal->\",gg1.size() )\n",
    "        #print(\"afterLineal value->\",gg1 )\n",
    "        #xcat = torch.cat((x, gg1), dim=2)\n",
    "        #print(\"cocatenate x and gg1->\",xcat.size() )\n",
    "        #print(\"cocatenate x and gg1 value->\",xcat)\n",
    "        gg2 = self.Linear_node2(gg1)\n",
    "        gg2 = torch.relu(gg2)\n",
    "        gg3 = self.Linear_node3(gg2)\n",
    "        gg3 = torch.relu(gg3)\n",
    "        \n",
    "        x = self.conv1(x, edge_index)\n",
    "        #print(x.size() )\n",
    "        x = torch.relu(x)\n",
    "        x = self.conv2(x, edge_index)\n",
    "        x = torch.relu(x)\n",
    "        x = self.conv3(x, edge_index)\n",
    "        x = torch.relu(x)\n",
    "        x = self.conv4(x, edge_index)\n",
    "        x = torch.relu(x)\n",
    "        #x = self.conv5(x, edge_index)\n",
    "        \n",
    "        xfinal = torch.cat((x, gg3), dim=2)\n",
    "        xfinal = self.Linear_node4(xfinal)\n",
    "        xfinal = torch.relu(xfinal)\n",
    "        xfinal = self.Linear_node5(xfinal)        \n",
    "        \n",
    "        #x = nn.functional.sigmoid(x)\n",
    "        x = nn.functional.sigmoid(xfinal)\n",
    "\n",
    "        \n",
    "        #print(\"len->\",len(x))\n",
    "        #print(x)\n",
    "        return x\n",
    "\n",
    "# class GCNModel(nn.Module):\n",
    "#     def __init__(self, in_channels, hidden_channels, num_classes):\n",
    "#         super(GCNModel, self).__init__()\n",
    "#         self.conv1 = GCNConv(in_channels, hidden_channels)\n",
    "#         self.conv2 = GCNConv(hidden_channels, num_classes)\n",
    "\n",
    "#     def forward(self, x_batch, edge_index_batch):\n",
    "#         x_batch = self.conv1(x_batch, edge_index_batch)\n",
    "#         x_batch = torch.relu(x_batch)\n",
    "#         x_batch = self.conv2(x_batch, edge_index_batch)\n",
    "#         return x_batch\n",
    "        \n",
    "# Initialize model, optimizer, and loss function\n",
    "#model = GCNModel(in_channels=3, hidden_channels=64, num_classes=2)\n",
    "model = GCNModel(in_channels=16, hidden_channels=32, num_classes=1)\n",
    "\n",
    "#optimizer = optim.Adam(model.parameters(), lr=0.0007)\n",
    "\n",
    "Adam_weight_decay = 0.001\n",
    "learning_ratio = 0.0006\n",
    "\n",
    "optimizer = torch.optim.AdamW(model.parameters(), lr=learning_ratio , weight_decay=Adam_weight_decay ) \n",
    "\n",
    "\n",
    "criterion = nn.CrossEntropyLoss()\n",
    "'''\n",
    "''''''"
   ]
  },
  {
   "cell_type": "code",
   "execution_count": 15,
   "id": "114de76e",
   "metadata": {},
   "outputs": [],
   "source": [
    "class GCNModel_2(nn.Module):\n",
    "    def __init__(self, in_channels, hidden_channels, num_classes):\n",
    "        super(GCNModel_2, self).__init__()\n",
    "        self.conv1 = GCNConv(in_channels, hidden_channels)\n",
    "        #self.conv2 = GCNConv(hidden_channels, num_classes)\n",
    "        self.conv2 = GCNConv(hidden_channels, hidden_channels)\n",
    "        #self.conv3 = GCNConv(hidden_channels, hidden_channels)\n",
    "        #self.conv4 = GCNConv(hidden_channels, hidden_channels)\n",
    "        #self.conv5 = GCNConv(hidden_channels, num_classes)\n",
    "        self.Linear_node1 = torch.nn.Linear(16,32)\n",
    "        self.Linear_node2 = torch.nn.Linear(32,16)\n",
    "        #self.Linear_node3 = torch.nn.Linear(32,32)\n",
    "        \n",
    "        self.Linear_node_After1 = torch.nn.Linear(hidden_channels,16)\n",
    "        self.Linear_node_After2 = torch.nn.Linear(16,16)\n",
    "        \n",
    "        self.Linear_node_After3 = torch.nn.Linear(hidden_channels,16)\n",
    "        self.Linear_node_After4 = torch.nn.Linear(16,16)\n",
    "        \n",
    "        self.Linear_final1 = torch.nn.Linear(48,64)\n",
    "        self.Linear_final2 = torch.nn.Linear(64,32)\n",
    "        self.Linear_final3 = torch.nn.Linear(32,1)\n",
    "        \n",
    "    def forward(self, x, edge_index):\n",
    "        gg1 = self.Linear_node1(x)\n",
    "        gg1 = torch.relu(gg1)\n",
    "\n",
    "        gg2 = self.Linear_node2(gg1)\n",
    "        gg2 = torch.relu(gg2)\n",
    "        \n",
    "        x1 = self.conv1(x, edge_index)\n",
    "        #print(x.size() )\n",
    "        x1 = torch.relu(x1)\n",
    "        x2 = self.conv2(x1, edge_index)\n",
    "        x2 = torch.relu(x2)\n",
    "        #x = self.conv3(x, edge_index)\n",
    "        #x = torch.relu(x)\n",
    "        \n",
    "        \n",
    "        x_after1 = self.Linear_node_After1(x1)\n",
    "        x_after1 = torch.relu(x_after1)\n",
    "        x_after1 = self.Linear_node_After2(x_after1)\n",
    "        x_after1 = torch.relu(x_after1)\n",
    "        \n",
    "        x_after2 = self.Linear_node_After3(x2)\n",
    "        x_after2 = torch.relu(x_after2)\n",
    "        x_after2 = self.Linear_node_After4(x_after2)\n",
    "        #print(\"x_after2\",x_after2)\n",
    "        \n",
    "        x_after2 = torch.relu(x_after2)\n",
    "        \n",
    "        \n",
    "        xfinal = torch.cat((gg2, x_after1, x_after2), dim=1)\n",
    "        #xfinal = torch.cat((x, gg3), dim=2)\n",
    "        xfinal = self.Linear_final1(xfinal)\n",
    "        xfinal = torch.relu(xfinal)\n",
    "        xfinal = self.Linear_final2(xfinal) \n",
    "        xfinal = torch.relu(xfinal)\n",
    "        xfinal = self.Linear_final3(xfinal) \n",
    "        \n",
    "        #x = nn.functional.sigmoid(x)\n",
    "        x = nn.functional.sigmoid(xfinal)\n",
    "\n",
    "        return x\n",
    "\n",
    "model = GCNModel_2(in_channels=16, hidden_channels=32, num_classes=1)\n",
    "\n",
    "#optimizer = optim.Adam(model.parameters(), lr=0.0007)\n",
    "\n",
    "Adam_weight_decay = 0.002\n",
    "learning_ratio = 0.0004\n",
    "\n",
    "optimizer = torch.optim.AdamW(model.parameters(), lr=learning_ratio , weight_decay=Adam_weight_decay ) \n",
    "optimizer2 = torch.optim.AdamW(model.parameters(), lr=learning_ratio*2 , weight_decay=Adam_weight_decay ) \n"
   ]
  },
  {
   "cell_type": "code",
   "execution_count": 59,
   "id": "6cfbdcf5",
   "metadata": {},
   "outputs": [],
   "source": [
    "from torch_geometric.nn import SplineConv, global_mean_pool, DataParallel, EdgeConv, GATConv, GINConv, PNAConv\n",
    "\n",
    "class GATNet_1(nn.Module):\n",
    "    def __init__(self, in_channels):\n",
    "        super(GATNet_1, self).__init__()\n",
    "        \n",
    "        self.conv1 = GATConv(in_channels, 20, heads=10, dropout=0.1)\n",
    "        #self.conv2 = GCNConv(hidden_channels, num_classes)\n",
    "        self.conv2 = GATConv(20*10, 24, heads=12, dropout=0.1)\n",
    "        self.conv3 = GATConv(24*12, 26, heads=18, dropout=0.1)\n",
    "        #self.conv4 = GCNConv(hidden_channels, hidden_channels)\n",
    "        #self.conv5 = GCNConv(hidden_channels, num_classes)\n",
    "        self.Linear_node1 = torch.nn.Linear(16,32)\n",
    "        #self.Linear_node2 = torch.nn.Linear(32,32)\n",
    "        #self.Linear_node3 = torch.nn.Linear(32,32)\n",
    "        \n",
    "        self.Linear_node_After1 = torch.nn.Linear(16*8,124)\n",
    "        #self.Linear_node_After2 = torch.nn.Linear(64,64)\n",
    "        \n",
    "        self.Linear_node_After3 = torch.nn.Linear(24*12,150)\n",
    "        #self.Linear_node_After4 = torch.nn.Linear(128,64)\n",
    "        \n",
    "        #self.Linear_final1 = torch.nn.Linear(128 + 32*8 + 32,160)\n",
    "        self.Linear_final1 = torch.nn.Linear(20*10 + 24*12 + 26*18 + 0,330)\n",
    "        self.Linear_final2 = torch.nn.Linear(330,128)\n",
    "        self.Linear_final3 = torch.nn.Linear(128,1)\n",
    "        \n",
    "    def forward(self, x, edge_index):\n",
    "        \n",
    "        gg1 = self.Linear_node1(x)\n",
    "        gg1 = torch.relu(gg1)\n",
    "        #gg2 = self.Linear_node2(gg1)\n",
    "        #gg2 = torch.relu(gg2)\n",
    "        \n",
    "        x1 = self.conv1(x, edge_index)\n",
    "        #x1 = torch.relu(x1)\n",
    "        x2 = self.conv2(x1, edge_index)\n",
    "        #x2 = torch.relu(x2)\n",
    "        x3 = self.conv3(x2, edge_index)\n",
    "        #x3 = torch.relu(x3)\n",
    "\n",
    "        #x_after1 = self.Linear_node_After1(x1)\n",
    "        #x_after1 = torch.relu(x_after1)\n",
    "        #x_after1 = self.Linear_node_After2(x_after1)\n",
    "        #x_after1 = torch.relu(x_after1)\n",
    "        \n",
    "        #x_after2 = self.Linear_node_After3(x2)\n",
    "        #x_after2 = torch.relu(x_after2)\n",
    "        #x_after2 = self.Linear_node_After4(x_after2)\n",
    "        #x_after2 = torch.relu(x_after2)\n",
    "        \n",
    "        \n",
    "        #xfinal = torch.cat(( gg2, x3, x_after1, x_after2), dim=1)\n",
    "        xfinal = torch.cat(( x3, x2, x1), dim=1)\n",
    "        #xfinal = torch.cat((x, gg3), dim=2)\n",
    "        xfinal = self.Linear_final1(xfinal)\n",
    "        xfinal = torch.relu(xfinal)\n",
    "        xfinal = F.dropout(xfinal, p=0.1)\n",
    "        \n",
    "        xfinal = self.Linear_final2(xfinal) \n",
    "        xfinal = torch.relu(xfinal)\n",
    "        xfinal = F.dropout(xfinal, p=0.1)\n",
    "        \n",
    "        xfinal = self.Linear_final3(xfinal) \n",
    "        \n",
    "        #x = nn.functional.sigmoid(x)\n",
    "        x = nn.functional.sigmoid(xfinal)\n",
    "\n",
    "        return x\n",
    "\n",
    "model = GATNet_1(16)\n",
    "\n",
    "#optimizer = optim.Adam(model.parameters(), lr=0.0007)\n",
    "\n",
    "#Adam_weight_decay = 0.0006\n",
    "learning_ratio = 0.0006\n",
    "\n",
    "#optimizer = torch.optim.AdamW(model.parameters(), lr=learning_ratio , weight_decay=Adam_weight_decay ) \n",
    "#optimizer2 = torch.optim.AdamW(model.parameters(), lr=learning_ratio*2 , weight_decay=Adam_weight_decay ) \n",
    "#optimizer3 = torch.optim.AdamW(model.parameters(), lr=learning_ratio*4 , weight_decay=Adam_weight_decay ) \n",
    "\n",
    "optimizer = optim.Adam(model.parameters(), lr=learning_ratio)\n",
    "optimizer2 = optim.Adam(model.parameters(), lr=learning_ratio*2)\n",
    "optimizer3 = optim.Adam(model.parameters(), lr=learning_ratio*6)"
   ]
  },
  {
   "cell_type": "code",
   "execution_count": null,
   "id": "c8aaccd0",
   "metadata": {},
   "outputs": [],
   "source": []
  },
  {
   "cell_type": "code",
   "execution_count": 55,
   "id": "56658b13",
   "metadata": {},
   "outputs": [],
   "source": [
    "from torch_geometric.nn import SplineConv, global_mean_pool, DataParallel, EdgeConv, GATConv, GINConv, PNAConv\n",
    "\n",
    "class GATNet_2(nn.Module):\n",
    "    def __init__(self, in_channels):\n",
    "        super(GATNet_2, self).__init__()\n",
    "        \n",
    "        self.conv1 = GATConv(in_channels, 16, heads=8, dropout=0.1)\n",
    "        #self.conv2 = GCNConv(hidden_channels, num_classes)\n",
    "        self.conv2 = GATConv(16*8, 24, heads=12, dropout=0.1)\n",
    "        self.conv3 = GATConv(24*12, 32, heads=16, dropout=0.1)\n",
    "        #self.conv4 = GCNConv(hidden_channels, hidden_channels)\n",
    "        #self.conv5 = GCNConv(hidden_channels, num_classes)\n",
    "        self.Linear_node1 = torch.nn.Linear(16,32)\n",
    "        #self.Linear_node2 = torch.nn.Linear(32,32)\n",
    "        #self.Linear_node3 = torch.nn.Linear(32,32)\n",
    "        \n",
    "        self.Linear_node_After1 = torch.nn.Linear(16*8,124)\n",
    "        #self.Linear_node_After2 = torch.nn.Linear(64,64)\n",
    "        \n",
    "        self.Linear_node_After3 = torch.nn.Linear(24*12,150)\n",
    "        #self.Linear_node_After4 = torch.nn.Linear(128,64)\n",
    "        \n",
    "        #self.Linear_final1 = torch.nn.Linear(128 + 32*8 + 32,160)\n",
    "        self.Linear_final1 = torch.nn.Linear(124 + 150 + 32*16 + 32,300)\n",
    "        self.Linear_final2 = torch.nn.Linear(300,124)\n",
    "        self.Linear_final3 = torch.nn.Linear(124,1)\n",
    "        \n",
    "    def forward(self, x, edge_index):\n",
    "        \n",
    "        ## made some changes by mistake, test again and check layers sizes\n",
    "        gg1 = self.Linear_node1(x)\n",
    "        gg1 = torch.relu(gg1)\n",
    "\n",
    "        #gg2 = self.Linear_node2(gg1)\n",
    "        #gg2 = torch.relu(gg2)\n",
    "        \n",
    "        x1 = self.conv1(x, edge_index)\n",
    "        #x1 = torch.relu(x1)\n",
    "        x2 = self.conv2(x1, edge_index)\n",
    "        #x2 = torch.relu(x2)\n",
    "        x3 = self.conv3(x2, edge_index)\n",
    "        #x3 = torch.relu(x3)\n",
    "\n",
    "        x_after1 = self.Linear_node_After1(x1)\n",
    "        x_after1 = torch.relu(x_after1)\n",
    "        #x_after1 = self.Linear_node_After2(x_after1)\n",
    "        #x_after1 = torch.relu(x_after1)\n",
    "        \n",
    "        x_after2 = self.Linear_node_After3(x2)\n",
    "        x_after2 = torch.relu(x_after2)\n",
    "        #x_after2 = self.Linear_node_After4(x_after2)\n",
    "        #x_after2 = torch.relu(x_after2)\n",
    "        \n",
    "        \n",
    "        #xfinal = torch.cat(( gg2, x3, x_after1, x_after2), dim=1)\n",
    "        xfinal = torch.cat(( gg1, x3, x_after1, x_after2), dim=1)\n",
    "        #xfinal = torch.cat((x, gg3), dim=2)\n",
    "        xfinal = self.Linear_final1(xfinal)\n",
    "        xfinal = torch.relu(xfinal)\n",
    "        xfinal = self.Linear_final2(xfinal) \n",
    "        xfinal = torch.relu(xfinal)\n",
    "        xfinal = self.Linear_final3(xfinal) \n",
    "        \n",
    "        #x = nn.functional.sigmoid(x)\n",
    "        x = nn.functional.sigmoid(xfinal)\n",
    "\n",
    "        return x\n",
    "\n",
    "model = GATNet_2(16)\n",
    "\n",
    "#optimizer = optim.Adam(model.parameters(), lr=0.0007)\n",
    "\n",
    "#Adam_weight_decay = 0.0006\n",
    "learning_ratio = 0.0006\n",
    "\n",
    "#optimizer = torch.optim.AdamW(model.parameters(), lr=learning_ratio , weight_decay=Adam_weight_decay ) \n",
    "#optimizer2 = torch.optim.AdamW(model.parameters(), lr=learning_ratio*2 , weight_decay=Adam_weight_decay ) \n",
    "#optimizer3 = torch.optim.AdamW(model.parameters(), lr=learning_ratio*4 , weight_decay=Adam_weight_decay ) \n",
    "\n",
    "optimizer = optim.Adam(model.parameters(), lr=learning_ratio)\n",
    "optimizer2 = optim.Adam(model.parameters(), lr=learning_ratio*2)\n",
    "optimizer3 = optim.Adam(model.parameters(), lr=learning_ratio*6)"
   ]
  },
  {
   "cell_type": "code",
   "execution_count": null,
   "id": "943caaef",
   "metadata": {},
   "outputs": [],
   "source": []
  },
  {
   "cell_type": "code",
   "execution_count": 57,
   "id": "1005020f-bc5b-4028-adad-246ed0bfc5f2",
   "metadata": {},
   "outputs": [
    {
     "data": {
      "text/plain": [
       "GATNet_1(\n",
       "  (conv1): GATConv(16, 20, heads=10)\n",
       "  (conv2): GATConv(200, 24, heads=12)\n",
       "  (conv3): GATConv(288, 26, heads=18)\n",
       "  (Linear_node1): Linear(in_features=16, out_features=32, bias=True)\n",
       "  (Linear_node_After1): Linear(in_features=128, out_features=124, bias=True)\n",
       "  (Linear_node_After3): Linear(in_features=288, out_features=150, bias=True)\n",
       "  (Linear_final1): Linear(in_features=956, out_features=330, bias=True)\n",
       "  (Linear_final2): Linear(in_features=330, out_features=128, bias=True)\n",
       "  (Linear_final3): Linear(in_features=128, out_features=1, bias=True)\n",
       ")"
      ]
     },
     "execution_count": 57,
     "metadata": {},
     "output_type": "execute_result"
    }
   ],
   "source": [
    "device = torch.device('cuda' if torch.cuda.is_available() else 'cpu')\n",
    "model.to(device)\n",
    "#criterion.to(device)"
   ]
  },
  {
   "cell_type": "code",
   "execution_count": 18,
   "id": "454b18f4",
   "metadata": {},
   "outputs": [
    {
     "data": {
      "text/plain": [
       "25887"
      ]
     },
     "execution_count": 18,
     "metadata": {},
     "output_type": "execute_result"
    }
   ],
   "source": [
    "len(graph_list)"
   ]
  },
  {
   "cell_type": "code",
   "execution_count": 19,
   "id": "8c36d09c",
   "metadata": {},
   "outputs": [],
   "source": [
    "size_train = 0.85\n",
    "graphs_test = graph_list[int(len(graph_list)*size_train) : int(len(graph_list))]\n",
    "graph_list = graph_list[0 : int(len(graph_list)*size_train) ]"
   ]
  },
  {
   "cell_type": "code",
   "execution_count": 20,
   "id": "982b8c83",
   "metadata": {},
   "outputs": [
    {
     "data": {
      "text/plain": [
       "27.50375"
      ]
     },
     "execution_count": 20,
     "metadata": {},
     "output_type": "execute_result"
    }
   ],
   "source": [
    "len(graph_list)/800"
   ]
  },
  {
   "cell_type": "code",
   "execution_count": 21,
   "id": "06473f91",
   "metadata": {},
   "outputs": [
    {
     "data": {
      "text/plain": [
       "3884"
      ]
     },
     "execution_count": 21,
     "metadata": {},
     "output_type": "execute_result"
    }
   ],
   "source": [
    "len(graphs_test)"
   ]
  },
  {
   "cell_type": "code",
   "execution_count": 22,
   "id": "717b6901-97ac-444c-8695-195b8a97a32b",
   "metadata": {},
   "outputs": [
    {
     "name": "stderr",
     "output_type": "stream",
     "text": [
      "/home/andrei/anaconda3/envs/gnn_scripts/lib/python3.11/site-packages/torch_geometric/deprecation.py:22: UserWarning: 'data.DataLoader' is deprecated, use 'loader.DataLoader' instead\n",
      "  warnings.warn(out)\n"
     ]
    }
   ],
   "source": [
    "#from torch.utils.data import DataLoader\n",
    "from torch_geometric.data import DataListLoader, DataLoader\n",
    "#from torch_geometric.loader import DataListLoader, DataLoader\n",
    "\n",
    "\n",
    "dataloader = DataLoader(graph_list, batch_size=800, shuffle=True)\n",
    "dataloader_test = DataLoader(graphs_test, batch_size=20, shuffle=True)\n"
   ]
  },
  {
   "cell_type": "code",
   "execution_count": 23,
   "id": "fd277771-1071-409c-aeb6-b6e08d5855d9",
   "metadata": {},
   "outputs": [
    {
     "data": {
      "text/plain": [
       "'  \\n# Training loop\\nfor epoch in range(30):\\n    for data in graph_list:\\n        data = data.to(device)\\n        model.train()\\n        optimizer.zero_grad()\\n        out = model(data.x, data.edge_index)\\n        out = out.view(-1, out.shape[-1])\\n        labels = torch.tensor(data.y, dtype=torch.long).to(device) \\n        print(out.shape)\\n        #print(labels.shape)\\n        loss = criterion(out, labels)\\n        loss.backward()\\n        optimizer.step()\\n'"
      ]
     },
     "execution_count": 23,
     "metadata": {},
     "output_type": "execute_result"
    }
   ],
   "source": [
    "'''  \n",
    "# Training loop\n",
    "for epoch in range(30):\n",
    "    for data in graph_list:\n",
    "        data = data.to(device)\n",
    "        model.train()\n",
    "        optimizer.zero_grad()\n",
    "        out = model(data.x, data.edge_index)\n",
    "        out = out.view(-1, out.shape[-1])\n",
    "        labels = torch.tensor(data.y, dtype=torch.long).to(device) \n",
    "        print(out.shape)\n",
    "        #print(labels.shape)\n",
    "        loss = criterion(out, labels)\n",
    "        loss.backward()\n",
    "        optimizer.step()\n",
    "''' "
   ]
  },
  {
   "cell_type": "code",
   "execution_count": 60,
   "id": "bf7fb52e-8b72-4446-81e2-9fb35b08b6c4",
   "metadata": {
    "scrolled": false
   },
   "outputs": [
    {
     "name": "stderr",
     "output_type": "stream",
     "text": [
      "/tmp/ipykernel_8142/352561693.py:27: UserWarning: To copy construct from a tensor, it is recommended to use sourceTensor.clone().detach() or sourceTensor.clone().detach().requires_grad_(True), rather than torch.tensor(sourceTensor).\n",
      "  labels = torch.tensor(data.y, dtype=torch.float).to(device)\n",
      "/tmp/ipykernel_8142/352561693.py:29: UserWarning: To copy construct from a tensor, it is recommended to use sourceTensor.clone().detach() or sourceTensor.clone().detach().requires_grad_(True), rather than torch.tensor(sourceTensor).\n",
      "  ww = torch.tensor(data.weights, dtype=torch.float).to(device)\n"
     ]
    },
    {
     "name": "stdout",
     "output_type": "stream",
     "text": [
      "Epoch [1/80], Loss_train: 64.4802\n"
     ]
    },
    {
     "name": "stderr",
     "output_type": "stream",
     "text": [
      "/tmp/ipykernel_8142/352561693.py:81: UserWarning: To copy construct from a tensor, it is recommended to use sourceTensor.clone().detach() or sourceTensor.clone().detach().requires_grad_(True), rather than torch.tensor(sourceTensor).\n",
      "  labels = torch.tensor(data.y, dtype=torch.float).to(device)\n",
      "/tmp/ipykernel_8142/352561693.py:83: UserWarning: To copy construct from a tensor, it is recommended to use sourceTensor.clone().detach() or sourceTensor.clone().detach().requires_grad_(True), rather than torch.tensor(sourceTensor).\n",
      "  ww = torch.tensor(data.weights, dtype=torch.float).to(device)\n"
     ]
    },
    {
     "name": "stdout",
     "output_type": "stream",
     "text": [
      "Epoch [1/80], Loss_test: 274.8560\n",
      "Epoch [2/80], Loss_train: 38.8302\n",
      "Epoch [3/80], Loss_train: 37.9076\n",
      "Epoch [4/80], Loss_train: 38.0197\n",
      "Epoch [5/80], Loss_train: 37.1697\n",
      "Epoch [6/80], Loss_train: 37.0072\n",
      "Epoch [6/80], Loss_test: 255.8197\n",
      "Epoch [7/80], Loss_train: 36.8653\n",
      "Epoch [8/80], Loss_train: 36.5928\n",
      "Epoch [9/80], Loss_train: 36.1478\n",
      "Epoch [10/80], Loss_train: 35.7854\n",
      "Epoch [11/80], Loss_train: 36.5387\n",
      "Epoch [11/80], Loss_test: 245.7636\n",
      "Epoch [12/80], Loss_train: 35.2580\n",
      "Epoch [13/80], Loss_train: 35.0037\n",
      "Epoch [14/80], Loss_train: 34.8613\n",
      "Epoch [15/80], Loss_train: 34.6561\n",
      "Epoch [16/80], Loss_train: 34.5939\n",
      "Epoch [16/80], Loss_test: 239.2888\n",
      "Epoch [17/80], Loss_train: 34.5275\n",
      "Epoch [18/80], Loss_train: 34.4534\n",
      "Epoch [19/80], Loss_train: 34.4097\n",
      "Epoch [20/80], Loss_train: 34.4056\n",
      "Epoch [21/80], Loss_train: 34.3628\n",
      "Epoch [21/80], Loss_test: 237.8325\n",
      "Epoch [22/80], Loss_train: 34.2574\n",
      "Epoch [23/80], Loss_train: 34.2015\n",
      "Epoch [24/80], Loss_train: 34.2068\n",
      "Epoch [25/80], Loss_train: 34.1314\n",
      "Epoch [26/80], Loss_train: 34.0946\n",
      "Epoch [26/80], Loss_test: 236.9437\n",
      "Epoch [27/80], Loss_train: 34.0999\n",
      "Epoch [28/80], Loss_train: 34.0521\n",
      "Epoch [29/80], Loss_train: 34.0293\n",
      "Epoch [30/80], Loss_train: 33.9411\n",
      "Epoch [31/80], Loss_train: 34.0202\n",
      "Epoch [31/80], Loss_test: 236.1576\n",
      "Epoch [32/80], Loss_train: 33.7942\n",
      "Epoch [33/80], Loss_train: 33.7927\n",
      "Epoch [34/80], Loss_train: 33.6994\n",
      "Epoch [35/80], Loss_train: 33.7214\n",
      "Epoch [36/80], Loss_train: 33.6977\n",
      "Epoch [36/80], Loss_test: 237.0736\n",
      "Epoch [37/80], Loss_train: 33.6621\n",
      "Epoch [38/80], Loss_train: 33.6922\n",
      "Epoch [39/80], Loss_train: 33.6972\n",
      "Epoch [40/80], Loss_train: 33.6742\n",
      "Epoch [41/80], Loss_train: 33.6443\n",
      "Epoch [41/80], Loss_test: 235.4228\n",
      "Epoch [42/80], Loss_train: 33.6417\n",
      "Epoch [43/80], Loss_train: 33.6014\n",
      "Epoch [44/80], Loss_train: 33.5668\n",
      "Epoch [45/80], Loss_train: 33.5975\n",
      "Epoch [46/80], Loss_train: 33.5996\n",
      "Epoch [46/80], Loss_test: 235.4843\n",
      "Epoch [47/80], Loss_train: 33.5792\n",
      "Epoch [48/80], Loss_train: 33.5454\n",
      "Epoch [49/80], Loss_train: 33.6105\n",
      "Epoch [50/80], Loss_train: 33.5011\n",
      "Epoch [51/80], Loss_train: 33.4605\n",
      "Epoch [51/80], Loss_test: 235.5385\n",
      "Epoch [52/80], Loss_train: 33.4294\n",
      "Epoch [53/80], Loss_train: 33.3926\n",
      "Epoch [54/80], Loss_train: 33.3999\n",
      "Epoch [55/80], Loss_train: 33.5218\n",
      "Epoch [56/80], Loss_train: 33.4316\n",
      "Epoch [56/80], Loss_test: 235.9148\n",
      "Epoch [57/80], Loss_train: 33.4419\n",
      "Epoch [58/80], Loss_train: 33.3803\n",
      "Epoch [59/80], Loss_train: 33.3027\n",
      "Epoch [60/80], Loss_train: 33.3312\n",
      "Epoch [61/80], Loss_train: 33.3012\n",
      "Epoch [61/80], Loss_test: 235.7559\n",
      "Epoch [62/80], Loss_train: 33.2505\n",
      "Epoch [63/80], Loss_train: 33.2456\n",
      "Epoch [64/80], Loss_train: 33.2430\n",
      "Epoch [65/80], Loss_train: 33.2269\n",
      "Epoch [66/80], Loss_train: 33.2405\n",
      "Epoch [66/80], Loss_test: 236.3510\n",
      "Epoch [67/80], Loss_train: 33.1650\n",
      "Epoch [68/80], Loss_train: 33.1023\n",
      "Epoch [69/80], Loss_train: 33.1119\n",
      "Epoch [70/80], Loss_train: 33.1277\n",
      "Epoch [71/80], Loss_train: 33.0497\n",
      "Epoch [71/80], Loss_test: 235.8932\n",
      "Epoch [72/80], Loss_train: 33.0730\n",
      "Epoch [73/80], Loss_train: 33.0171\n",
      "Epoch [74/80], Loss_train: 33.0376\n",
      "Epoch [75/80], Loss_train: 32.9728\n",
      "Epoch [76/80], Loss_train: 32.9866\n",
      "Epoch [76/80], Loss_test: 238.1385\n",
      "Epoch [77/80], Loss_train: 32.9804\n",
      "Epoch [78/80], Loss_train: 32.8999\n",
      "Epoch [79/80], Loss_train: 32.9005\n",
      "Epoch [80/80], Loss_train: 32.7821\n"
     ]
    }
   ],
   "source": [
    "num_epochs = 80\n",
    "for epoch in range(num_epochs):\n",
    "    model.train()\n",
    "    epoch_loss = 0.0\n",
    "    \n",
    "    count_loader = 0\n",
    "    graph_count = 0\n",
    "    optimizer.zero_grad()\n",
    "    #batch_size = 240\n",
    "    \n",
    "    loss = 0\n",
    "    \n",
    "    for data in dataloader:\n",
    "#    for data in graph_list:\n",
    "        model.train()\n",
    "    \n",
    "        data = data.to(device)  # Move batch data to the same device as model\n",
    "        count_loader += 1            \n",
    "        optimizer.zero_grad()\n",
    "            \n",
    "        out = model(data.x, data.edge_index)\n",
    "        #out = model(data.x)\n",
    "        \n",
    "        out = out.view(-1, out.shape[-1])\n",
    "        \n",
    "        #labels = torch.tensor(data.y, dtype=torch.long).to(device) \n",
    "        labels = torch.tensor(data.y, dtype=torch.float).to(device) \n",
    "        labels = torch.reshape(labels, (int(list(labels.shape)[0]),1))\n",
    "        ww = torch.tensor(data.weights, dtype=torch.float).to(device)\n",
    "        ww = torch.reshape(ww, (int(list(labels.shape)[0]),1))\n",
    "\n",
    "        #print(out.dtype)\n",
    "        #print(labels.dtype)\n",
    "        #loss = criterion(out, labels)\n",
    "        #loss += torch.nn.functional.binary_cross_entropy(out, labels) \n",
    "        loss = torch.nn.functional.binary_cross_entropy(out, labels, weight = ww) \n",
    "\n",
    "        \n",
    "        '''\n",
    "        batch_size = 240\n",
    "        if (count_loader+1)%batch_size==0: \n",
    "            \n",
    "            if (count_loader+1)%(batch_size*100)==0 : print(\"count_loader->\",count_loader, \"   loss->\",loss)\n",
    "            loss.backward()\n",
    "            optimizer.step()\n",
    "            epoch_loss += loss.item()\n",
    "            loss = 0\n",
    "            optimizer.zero_grad()\n",
    "        '''\n",
    "        \n",
    "        loss.backward()\n",
    "        if epoch < 10:\n",
    "            optimizer3.step()\n",
    "            #if count_loader%30==0: print(\"op3\")\n",
    "        elif epoch < 30:\n",
    "            optimizer2.step()\n",
    "            #if count_loader%30==0: print(\"op2\")\n",
    "        else:\n",
    "            optimizer.step()\n",
    "            #if count_loader%30==0: print(\"op1\")\n",
    "        \n",
    "        epoch_loss += loss.item()\n",
    "        \n",
    "    print(f'Epoch [{epoch+1}/{num_epochs}], Loss_train: {epoch_loss:.4f}')\n",
    "    \n",
    "    save_epoch = 450\n",
    "    if epoch==save_epoch:\n",
    "        torch.save(model.state_dict() , \"./\"+\"e{:03d}\".format(epoch+1)+\".pt\")\n",
    "        \n",
    "    epoch_loss = 0.0\n",
    "    nodes_out = torch.tensor([])\n",
    "    labels_test = torch.tensor([])\n",
    "    \n",
    "    if epoch%5==0:\n",
    "        for data in dataloader_test:\n",
    "            model.eval()\n",
    "            data = data.to(device)  # Move batch data to the same device as model\n",
    "            out = model(data.x, data.edge_index)\n",
    "            \n",
    "            out = out.view(-1, out.shape[-1])\n",
    "            labels = torch.tensor(data.y, dtype=torch.float).to(device) \n",
    "            labels = torch.reshape(labels, (int(list(labels.shape)[0]),1))\n",
    "            ww = torch.tensor(data.weights, dtype=torch.float).to(device)\n",
    "            ww = torch.reshape(ww, (int(list(labels.shape)[0]),1))\n",
    "            \n",
    "            nodes_out = torch.cat((nodes_out.clone().detach(), out), 0)\n",
    "            labels_test = torch.cat((labels_test.clone().detach(), labels), 0)\n",
    "            #loss = torch.nn.functional.binary_cross_entropy(out, labels)\n",
    "            loss = torch.nn.functional.binary_cross_entropy(out, labels, weight = ww)\n",
    "            epoch_loss += loss.item()\n",
    "        model.train()\n",
    "        print(f'Epoch [{epoch+1}/{num_epochs}], Loss_test: {epoch_loss:.4f}')\n",
    "    \n"
   ]
  },
  {
   "cell_type": "code",
   "execution_count": 25,
   "id": "42c330b3",
   "metadata": {},
   "outputs": [
    {
     "data": {
      "text/plain": [
       "'\\n\\n'"
      ]
     },
     "execution_count": 25,
     "metadata": {},
     "output_type": "execute_result"
    }
   ],
   "source": [
    "# using df1 = file.head(300000) using size_train = 0.85 && batch size=512 \n",
    "'''\n",
    "\n",
    "'''\n"
   ]
  },
  {
   "cell_type": "code",
   "execution_count": null,
   "id": "b5422927",
   "metadata": {},
   "outputs": [],
   "source": []
  },
  {
   "cell_type": "code",
   "execution_count": 40,
   "id": "eec2df7e",
   "metadata": {},
   "outputs": [],
   "source": [
    "#epoch = 7000\n",
    "#model.load_state_dict(torch.load(\"./e070.pt\", map_location=torch.device('cpu')))\n",
    "#torch.save(model.state_dict() , \"./\"+\"e{:03d}\".format(epoch+1)+\".pt\")\n"
   ]
  },
  {
   "cell_type": "code",
   "execution_count": 61,
   "id": "c1d44e11",
   "metadata": {},
   "outputs": [
    {
     "name": "stderr",
     "output_type": "stream",
     "text": [
      "/tmp/ipykernel_8142/3943691914.py:14: UserWarning: To copy construct from a tensor, it is recommended to use sourceTensor.clone().detach() or sourceTensor.clone().detach().requires_grad_(True), rather than torch.tensor(sourceTensor).\n",
      "  labels = torch.tensor(data.y, dtype=torch.float).to(device)\n"
     ]
    },
    {
     "name": "stdout",
     "output_type": "stream",
     "text": [
      "Epoch [80/80], Loss: 19.6704\n"
     ]
    }
   ],
   "source": [
    "epoch_loss = 0.0\n",
    "\n",
    "optimizer.zero_grad()\n",
    "model.eval()\n",
    "nodes_out = torch.tensor([])\n",
    "labels_test = torch.tensor([])\n",
    "#for data in graph_list:\n",
    "for data in dataloader:\n",
    "#for data in graphs_test:\n",
    "#for data in dataloader_test:\n",
    "    data = data.to(device)  # Move batch data to the same device as model\n",
    "    out = model(data.x, data.edge_index)\n",
    "    out = out.view(-1, out.shape[-1])\n",
    "    labels = torch.tensor(data.y, dtype=torch.float).to(device) \n",
    "    labels = torch.reshape(labels, (int(list(labels.shape)[0]),1))\n",
    "    \n",
    "    nodes_out = torch.cat((nodes_out.clone().detach(), out), 0)\n",
    "    labels_test = torch.cat((labels_test.clone().detach(), labels), 0)\n",
    "    loss = torch.nn.functional.binary_cross_entropy(out, labels)\n",
    "    \n",
    "    #loss = torch.nn.functional.binary_cross_entropy(out, labels, weight = ww)\n",
    "    epoch_loss += loss.item()\n",
    "print(f'Epoch [{epoch+1}/{num_epochs}], Loss: {epoch_loss:.4f}')"
   ]
  },
  {
   "cell_type": "code",
   "execution_count": 62,
   "id": "b97b1891",
   "metadata": {},
   "outputs": [
    {
     "data": {
      "text/plain": [
       "tensor([[0.0097],\n",
       "        [0.0235],\n",
       "        [0.0594],\n",
       "        ...,\n",
       "        [0.7315],\n",
       "        [0.7208],\n",
       "        [0.6588]], grad_fn=<CatBackward0>)"
      ]
     },
     "execution_count": 62,
     "metadata": {},
     "output_type": "execute_result"
    }
   ],
   "source": [
    "nodes_out"
   ]
  },
  {
   "cell_type": "code",
   "execution_count": 63,
   "id": "d706ce67",
   "metadata": {},
   "outputs": [
    {
     "data": {
      "text/plain": [
       "tensor([0.0097, 0.0235, 0.0594,  ..., 0.7315, 0.7208, 0.6588],\n",
       "       grad_fn=<IndexBackward0>)"
      ]
     },
     "execution_count": 63,
     "metadata": {},
     "output_type": "execute_result"
    }
   ],
   "source": [
    "nodes_out[labels_test<0.5]"
   ]
  },
  {
   "cell_type": "code",
   "execution_count": 64,
   "id": "ba954f8f",
   "metadata": {},
   "outputs": [
    {
     "data": {
      "text/plain": [
       "tensor([0.3350, 0.6355, 0.9485,  ..., 0.6562, 0.6016, 0.5393],\n",
       "       grad_fn=<IndexBackward0>)"
      ]
     },
     "execution_count": 64,
     "metadata": {},
     "output_type": "execute_result"
    }
   ],
   "source": [
    "nodes_out[labels_test>0.5]"
   ]
  },
  {
   "cell_type": "code",
   "execution_count": 65,
   "id": "464a1df3",
   "metadata": {},
   "outputs": [
    {
     "name": "stdout",
     "output_type": "stream",
     "text": [
      "mean score Pileup-> tensor(0.7009, grad_fn=<MeanBackward0>) \n",
      " mean score NoPileup-> tensor(0.4640, grad_fn=<MeanBackward0>)\n"
     ]
    }
   ],
   "source": [
    "print(\"mean score Pileup->\",torch.mean(nodes_out[labels_test>0.5]), \"\\n\" , \"mean score NoPileup->\",torch.mean(nodes_out[labels_test<0.5]))"
   ]
  },
  {
   "cell_type": "code",
   "execution_count": 66,
   "id": "4c1c9830",
   "metadata": {},
   "outputs": [
    {
     "data": {
      "text/plain": [
       "'\\nmean score Pileup-> tensor(0.7049, grad_fn=<MeanBackward0>) \\n mean score NoPileup-> tensor(0.4703, grad_fn=<MeanBackward0>)\\n'"
      ]
     },
     "execution_count": 66,
     "metadata": {},
     "output_type": "execute_result"
    }
   ],
   "source": [
    "'''\n",
    "mean score Pileup-> tensor(0.7049, grad_fn=<MeanBackward0>) \n",
    " mean score NoPileup-> tensor(0.4703, grad_fn=<MeanBackward0>)\n",
    "'''"
   ]
  },
  {
   "cell_type": "code",
   "execution_count": 67,
   "id": "0228ad86-966a-4b08-ab01-7996a3bd2ab5",
   "metadata": {},
   "outputs": [],
   "source": [
    "def VecROC(VEC):\n",
    "    VEC_sum=0\n",
    "    bkg_sum=0\n",
    "    VEC_out = np.zeros(len(VEC))\n",
    "    #for i in range (len(VEC)-1,-1,-1 ):\n",
    "    for i in range (0,len(VEC),1 ):\n",
    "        VEC_sum += VEC[i]\n",
    "        #VEC_out.append(VEC_sum) \n",
    "        VEC_out[i] = VEC_sum\n",
    "    return VEC_out/VEC_sum\n",
    "\n",
    "number_bins = 100\n",
    "\n",
    "out_NoPile = nodes_out[labels_test<0.5].detach().numpy()\n",
    "out_Pile = nodes_out[labels_test>0.5].detach().numpy()\n",
    "\n",
    "hist_NoPile = np.histogram( out_NoPile , bins=number_bins , range=(0,1) )#, weights = weight_good  )\n",
    "hist_Pile = np.histogram( out_Pile , bins=number_bins , range=(0,1) )"
   ]
  },
  {
   "cell_type": "code",
   "execution_count": 68,
   "id": "ca229842",
   "metadata": {},
   "outputs": [
    {
     "data": {
      "image/png": "[encoded data removed]",
      "text/plain": [
       "<Figure size 432x288 with 1 Axes>"
      ]
     },
     "metadata": {
      "needs_background": "light"
     },
     "output_type": "display_data"
    }
   ],
   "source": [
    "import matplotlib.pyplot as plt\n",
    "ROC_NoPile = VecROC(hist_NoPile[0])\n",
    "ROC_Pile = VecROC(hist_Pile[0])\n",
    "fig, ax = plt.subplots()\n",
    "ax.plot(ROC_Pile[0:], ROC_NoPile[0:])\n",
    "ax.plot([0.0, 1.0], [0.0, 1.0])\n",
    "\n",
    "plt.axvline(x = 0.5, color = 'green')\n",
    "plt.axhline(y = 0.84, color = 'black')\n",
    "plt.show()"
   ]
  },
  {
   "cell_type": "code",
   "execution_count": 69,
   "id": "e6a80b1b",
   "metadata": {},
   "outputs": [
    {
     "data": {
      "image/png": "[encoded data removed]",
      "text/plain": [
       "<Figure size 432x288 with 1 Axes>"
      ]
     },
     "metadata": {
      "needs_background": "light"
     },
     "output_type": "display_data"
    }
   ],
   "source": [
    "import matplotlib.pyplot as plt\n",
    "ROC_NoPile = VecROC(hist_NoPile[0])\n",
    "ROC_Pile = VecROC(hist_Pile[0])\n",
    "fig, ax = plt.subplots()\n",
    "ax.plot(ROC_Pile[75:], ROC_NoPile[75:])\n",
    "ax.plot([0.9, 1.0], [0.9, 1.0])\n",
    "\n",
    "plt.axvline(x = 0.865, color = 'green')\n",
    "plt.axhline(y = 0.98, color = 'black')\n",
    "\n",
    "plt.axvline(x = 0.93, color = 'red')\n",
    "plt.axhline(y = 0.99, color = 'black')\n",
    "\n",
    "\n",
    "plt.show()\n",
    "## using test data"
   ]
  },
  {
   "cell_type": "code",
   "execution_count": 70,
   "id": "b8b10f44",
   "metadata": {},
   "outputs": [
    {
     "data": {
      "image/png": "[encoded data removed]",
      "text/plain": [
       "<Figure size 432x288 with 1 Axes>"
      ]
     },
     "metadata": {
      "needs_background": "light"
     },
     "output_type": "display_data"
    }
   ],
   "source": [
    "import matplotlib.pyplot as plt\n",
    "ROC_NoPile = VecROC(hist_NoPile[0])\n",
    "ROC_Pile = VecROC(hist_Pile[0])\n",
    "fig, ax = plt.subplots()\n",
    "#ax.plot(ROC_Pile[5:], 1/ROC_NoPile[5:])\n",
    "\n",
    "ax.plot(ROC_NoPile[45:], 1/ROC_Pile[45:])\n",
    "plt.axvline(x = 0.9 , color = 'green')\n",
    "plt.axvline(x = 0.5 , color = 'orange')\n",
    "plt.axhline(y = 1.6 , color = 'black')\n",
    "plt.axhline(y = 8 , color = 'black')\n",
    "plt.show()"
   ]
  },
  {
   "cell_type": "code",
   "execution_count": null,
   "id": "fee9e145",
   "metadata": {},
   "outputs": [],
   "source": []
  },
  {
   "cell_type": "code",
   "execution_count": null,
   "id": "1e3ed438",
   "metadata": {},
   "outputs": [],
   "source": []
  },
  {
   "cell_type": "code",
   "execution_count": 71,
   "id": "d0ed590b",
   "metadata": {},
   "outputs": [
    {
     "data": {
      "image/png": "[encoded data removed]",
      "text/plain": [
       "<Figure size 432x288 with 1 Axes>"
      ]
     },
     "metadata": {
      "needs_background": "light"
     },
     "output_type": "display_data"
    }
   ],
   "source": [
    "import matplotlib.pyplot as plt\n",
    "ROC_NoPile = VecROC(hist_NoPile[0])\n",
    "ROC_Pile = VecROC(hist_Pile[0])\n",
    "fig, ax = plt.subplots()\n",
    "ax.plot(ROC_Pile, ROC_NoPile)\n",
    "ax.plot([0.0, 1.0], [0.0, 1.0])\n",
    "plt.show()"
   ]
  },
  {
   "cell_type": "code",
   "execution_count": 72,
   "id": "7506ddaa-96bd-4532-b535-6c8ce7b4e588",
   "metadata": {},
   "outputs": [
    {
     "name": "stderr",
     "output_type": "stream",
     "text": [
      "/tmp/ipykernel_8142/3768046301.py:15: UserWarning: To copy construct from a tensor, it is recommended to use sourceTensor.clone().detach() or sourceTensor.clone().detach().requires_grad_(True), rather than torch.tensor(sourceTensor).\n",
      "  labels = torch.tensor(data.y, dtype=torch.float).to(device)\n"
     ]
    },
    {
     "name": "stdout",
     "output_type": "stream",
     "text": [
      "Epoch [80/80], Loss: 2725.3423\n"
     ]
    },
    {
     "data": {
      "image/png": "[encoded data removed]",
      "text/plain": [
       "<Figure size 432x288 with 1 Axes>"
      ]
     },
     "metadata": {
      "needs_background": "light"
     },
     "output_type": "display_data"
    }
   ],
   "source": [
    "epoch_loss = 0.0\n",
    "\n",
    "optimizer.zero_grad()\n",
    "model.eval()\n",
    "nodes_out = torch.tensor([])\n",
    "labels_test = torch.tensor([])\n",
    "\n",
    "#for data in graph_list:\n",
    "#for data in dataloader:\n",
    "for data in graphs_test:\n",
    "#for data in dataloader_test:\n",
    "    data = data.to(device)  # Move batch data to the same device as model\n",
    "    out = model(data.x, data.edge_index)\n",
    "    out = out.view(-1, out.shape[-1])\n",
    "    labels = torch.tensor(data.y, dtype=torch.float).to(device) \n",
    "    labels = torch.reshape(labels, (int(list(labels.shape)[0]),1))\n",
    "    \n",
    "    nodes_out = torch.cat((nodes_out.clone().detach(), out), 0)\n",
    "    labels_test = torch.cat((labels_test.clone().detach(), labels), 0)\n",
    "    loss = torch.nn.functional.binary_cross_entropy(out, labels)\n",
    "    \n",
    "    #loss = torch.nn.functional.binary_cross_entropy(out, labels, weight = ww)\n",
    "    epoch_loss += loss.item()\n",
    "print(f'Epoch [{epoch+1}/{num_epochs}], Loss: {epoch_loss:.4f}')\n",
    "\n",
    "number_bins = 100\n",
    "\n",
    "out_NoPile = nodes_out[labels_test<0.5].detach().numpy()\n",
    "out_Pile = nodes_out[labels_test>0.5].detach().numpy()\n",
    "\n",
    "hist_NoPile = np.histogram( out_NoPile , bins=number_bins , range=(0,1) )#, weights = weight_good  )\n",
    "hist_Pile = np.histogram( out_Pile , bins=number_bins , range=(0,1) )\n",
    "\n",
    "ROC_NoPile = VecROC(hist_NoPile[0])\n",
    "ROC_Pile = VecROC(hist_Pile[0])\n",
    "fig, ax = plt.subplots()\n",
    "ax.plot(ROC_Pile[0:], ROC_NoPile[0:])\n",
    "ax.plot([0.0, 1.0], [0.0, 1.0])\n",
    "\n",
    "plt.axvline(x = 0.5, color = 'green')\n",
    "plt.axhline(y = 0.84, color = 'black')\n",
    "plt.show()"
   ]
  },
  {
   "cell_type": "code",
   "execution_count": 73,
   "id": "f41f1af4-2979-4017-b0da-006a968be5aa",
   "metadata": {},
   "outputs": [
    {
     "data": {
      "image/png": "[encoded data removed]",
      "text/plain": [
       "<Figure size 432x288 with 1 Axes>"
      ]
     },
     "metadata": {
      "needs_background": "light"
     },
     "output_type": "display_data"
    }
   ],
   "source": [
    "import matplotlib.pyplot as plt\n",
    "def VecROC(VEC):\n",
    "    VEC_sum=0\n",
    "    bkg_sum=0\n",
    "    VEC_out = np.zeros(len(VEC))\n",
    "    #for i in range (len(VEC)-1,-1,-1 ):\n",
    "    for i in range (0,len(VEC),1 ):\n",
    "        VEC_sum += VEC[i]\n",
    "        #VEC_out.append(VEC_sum) \n",
    "        VEC_out[i] = VEC_sum\n",
    "    return VEC_out/VEC_sum\n",
    "\n",
    "ROC_NoPile = VecROC(hist_NoPile[0])\n",
    "ROC_Pile = VecROC(hist_Pile[0])\n",
    "fig, ax = plt.subplots()\n",
    "ax.plot(ROC_Pile[75:], ROC_NoPile[75:])\n",
    "ax.plot([0.9, 1.0], [0.9, 1.0])\n",
    "\n",
    "plt.axvline(x = 0.865, color = 'green')\n",
    "plt.axhline(y = 0.98, color = 'black')\n",
    "\n",
    "plt.axvline(x = 0.93, color = 'red')\n",
    "plt.axhline(y = 0.99, color = 'black')\n",
    "\n",
    "\n",
    "plt.show()\n",
    "## using test data"
   ]
  },
  {
   "cell_type": "code",
   "execution_count": null,
   "id": "24a96909",
   "metadata": {},
   "outputs": [],
   "source": []
  },
  {
   "cell_type": "code",
   "execution_count": null,
   "id": "6f5b7c20",
   "metadata": {},
   "outputs": [],
   "source": []
  },
  {
   "cell_type": "code",
   "execution_count": null,
   "id": "15ef6deb",
   "metadata": {},
   "outputs": [],
   "source": []
  },
  {
   "cell_type": "code",
   "execution_count": null,
   "id": "5901d288",
   "metadata": {},
   "outputs": [],
   "source": []
  },
  {
   "cell_type": "code",
   "execution_count": null,
   "id": "64c43dc1",
   "metadata": {},
   "outputs": [],
   "source": []
  },
  {
   "cell_type": "code",
   "execution_count": null,
   "id": "ad3bfd99",
   "metadata": {},
   "outputs": [],
   "source": []
  },
  {
   "cell_type": "code",
   "execution_count": null,
   "id": "7941517c",
   "metadata": {},
   "outputs": [],
   "source": []
  },
  {
   "cell_type": "code",
   "execution_count": null,
   "id": "e33da2e7",
   "metadata": {},
   "outputs": [],
   "source": []
  },
  {
   "cell_type": "code",
   "execution_count": null,
   "id": "8cd4d9cd",
   "metadata": {},
   "outputs": [],
   "source": []
  }
 ],
 "metadata": {
  "kernelspec": {
   "display_name": "Python 3 (ipykernel)",
   "language": "python",
   "name": "python3"
  },
  "language_info": {
   "codemirror_mode": {
    "name": "ipython",
    "version": 3
   },
   "file_extension": ".py",
   "mimetype": "text/x-python",
   "name": "python",
   "nbconvert_exporter": "python",
   "pygments_lexer": "ipython3",
   "version": "3.11.4"
  }
 },
 "nbformat": 4,
 "nbformat_minor": 5
}
