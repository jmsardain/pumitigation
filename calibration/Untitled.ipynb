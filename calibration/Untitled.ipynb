{
 "cells": [
  {
   "cell_type": "code",
   "execution_count": 1,
   "id": "0d5c217d-60d3-4e47-9880-114975b2ef9f",
   "metadata": {},
   "outputs": [],
   "source": [
    "import numpy as np\n",
    "import matplotlib.pyplot as plt "
   ]
  },
  {
   "cell_type": "code",
   "execution_count": 2,
   "id": "702b677f-5469-4522-8105-b4f4aeaf1a94",
   "metadata": {},
   "outputs": [],
   "source": [
    "dir = '/home/jmsardain/JetCalib/PUMitigation/latest/calibration/ckpts/'"
   ]
  },
  {
   "cell_type": "code",
   "execution_count": 19,
   "id": "acad9ff1-e9f8-4f30-a39b-5b5f9b8fb864",
   "metadata": {},
   "outputs": [],
   "source": [
    "xtest = np.load(dir+'x_test.npy')\n",
    "trueR = np.load(dir+'trueResponse.npy')\n",
    "predR = np.load(dir+'predResponse.npy')"
   ]
  },
  {
   "cell_type": "code",
   "execution_count": 20,
   "id": "e3651c5d-f8fe-40a2-816d-1ef6dce5d92c",
   "metadata": {},
   "outputs": [
    {
     "data": {
      "text/plain": [
       "array([2.       , 2.       , 1.9999976, ..., 2.       , 1.9999995,\n",
       "       2.       ], dtype=float32)"
      ]
     },
     "execution_count": 20,
     "metadata": {},
     "output_type": "execute_result"
    }
   ],
   "source": [
    "predR"
   ]
  },
  {
   "cell_type": "code",
   "execution_count": 22,
   "id": "875c21b8-20e9-4f7a-9ac1-d91eee588f08",
   "metadata": {},
   "outputs": [
    {
     "data": {
      "image/png": "[encoded data removed]",
      "text/plain": [
       "<Figure size 640x480 with 1 Axes>"
      ]
     },
     "metadata": {},
     "output_type": "display_data"
    }
   ],
   "source": [
    "bins = np.linspace(0, 5, 20+1)\n",
    "plt.hist(trueR, bins=bins, label='true')\n",
    "plt.hist(predR, bins=bins, label='pred')\n",
    "plt.yscale('log')"
   ]
  },
  {
   "cell_type": "code",
   "execution_count": 15,
   "id": "b86c3093-4381-46bb-8641-250fcad4ba09",
   "metadata": {},
   "outputs": [],
   "source": [
    "out1 = np.concatenate(out, axis=0)"
   ]
  },
  {
   "cell_type": "code",
   "execution_count": 18,
   "id": "48fb4928-2ac4-47b1-9f49-09183342074a",
   "metadata": {},
   "outputs": [
    {
     "data": {
      "text/plain": [
       "array([2.       , 2.       , 1.9999976, ..., 2.       , 1.9999995,\n",
       "       2.       ], dtype=float32)"
      ]
     },
     "execution_count": 18,
     "metadata": {},
     "output_type": "execute_result"
    }
   ],
   "source": [
    "out1"
   ]
  },
  {
   "cell_type": "code",
   "execution_count": null,
   "id": "33b9da9b-f83b-45c4-9ef8-0c26c7b94a7d",
   "metadata": {},
   "outputs": [],
   "source": []
  }
 ],
 "metadata": {
  "kernelspec": {
   "display_name": "Python 3 (ipykernel)",
   "language": "python",
   "name": "python3"
  },
  "language_info": {
   "codemirror_mode": {
    "name": "ipython",
    "version": 3
   },
   "file_extension": ".py",
   "mimetype": "text/x-python",
   "name": "python",
   "nbconvert_exporter": "python",
   "pygments_lexer": "ipython3",
   "version": "3.8.10"
  }
 },
 "nbformat": 4,
 "nbformat_minor": 5
}
